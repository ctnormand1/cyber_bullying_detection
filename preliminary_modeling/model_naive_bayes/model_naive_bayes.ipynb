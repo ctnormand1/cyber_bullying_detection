{
 "cells": [
  {
   "cell_type": "markdown",
   "id": "293f17e3-12d7-42f5-99bd-e08ac64533f4",
   "metadata": {},
   "source": [
    "# Modeling: Naive Bayes"
   ]
  },
  {
   "cell_type": "code",
   "execution_count": 1,
   "id": "4ac43fd1-9e4b-4083-9768-3aa3ccc7b9d6",
   "metadata": {},
   "outputs": [],
   "source": [
    "import pandas as pd\n",
    "import matplotlib.pyplot as plt\n",
    "from eda_functions import split_data\n",
    "\n",
    "from sklearn.pipeline import Pipeline\n",
    "from sklearn.feature_extraction.text import CountVectorizer\n",
    "from sklearn.naive_bayes import MultinomialNB\n",
    "from sklearn.model_selection import GridSearchCV"
   ]
  },
  {
   "cell_type": "markdown",
   "id": "749632cd-329e-48ad-a401-dc29d4fe40a9",
   "metadata": {},
   "source": [
    "## Attack"
   ]
  },
  {
   "cell_type": "code",
   "execution_count": 2,
   "id": "5b80e9ca-a40a-47c9-8433-8f9a46e4f21c",
   "metadata": {},
   "outputs": [
    {
     "name": "stdout",
     "output_type": "stream",
     "text": [
      "<class 'pandas.core.frame.DataFrame'>\n",
      "Int64Index: 115563 entries, 37675 to 699897151\n",
      "Data columns (total 2 columns):\n",
      " #   Column   Non-Null Count   Dtype \n",
      "---  ------   --------------   ----- \n",
      " 0   comment  115563 non-null  object\n",
      " 1   target   115563 non-null  int64 \n",
      "dtypes: int64(1), object(1)\n",
      "memory usage: 2.6+ MB\n"
     ]
    },
    {
     "data": {
      "text/html": [
       "<div>\n",
       "<style scoped>\n",
       "    .dataframe tbody tr th:only-of-type {\n",
       "        vertical-align: middle;\n",
       "    }\n",
       "\n",
       "    .dataframe tbody tr th {\n",
       "        vertical-align: top;\n",
       "    }\n",
       "\n",
       "    .dataframe thead th {\n",
       "        text-align: right;\n",
       "    }\n",
       "</style>\n",
       "<table border=\"1\" class=\"dataframe\">\n",
       "  <thead>\n",
       "    <tr style=\"text-align: right;\">\n",
       "      <th></th>\n",
       "      <th>comment</th>\n",
       "      <th>target</th>\n",
       "    </tr>\n",
       "    <tr>\n",
       "      <th>rev_id</th>\n",
       "      <th></th>\n",
       "      <th></th>\n",
       "    </tr>\n",
       "  </thead>\n",
       "  <tbody>\n",
       "    <tr>\n",
       "      <th>37675</th>\n",
       "      <td>This is not creative  Those are the dictionar...</td>\n",
       "      <td>0</td>\n",
       "    </tr>\n",
       "    <tr>\n",
       "      <th>44816</th>\n",
       "      <td>the term standard model is itself less NPOV...</td>\n",
       "      <td>0</td>\n",
       "    </tr>\n",
       "    <tr>\n",
       "      <th>49851</th>\n",
       "      <td>True or false the situation as of March 2002...</td>\n",
       "      <td>0</td>\n",
       "    </tr>\n",
       "  </tbody>\n",
       "</table>\n",
       "</div>"
      ],
      "text/plain": [
       "                                                  comment  target\n",
       "rev_id                                                           \n",
       "37675    This is not creative  Those are the dictionar...       0\n",
       "44816      the term standard model is itself less NPOV...       0\n",
       "49851     True or false the situation as of March 2002...       0"
      ]
     },
     "execution_count": 2,
     "metadata": {},
     "output_type": "execute_result"
    }
   ],
   "source": [
    "# Load data\n",
    "df_attack = pd.read_csv('../data/attack_clean.csv', index_col='rev_id')\n",
    "df_attack.info()\n",
    "df_attack.head(3)"
   ]
  },
  {
   "cell_type": "code",
   "execution_count": 3,
   "id": "694116ad-de28-4ee9-b0e1-35c9e3237716",
   "metadata": {},
   "outputs": [],
   "source": [
    "# Split into training/testing\n",
    "# Use custom function to balance classes by downsampling (training data only)\n",
    "\n",
    "X_train, X_test, y_train, y_test = split_data(\n",
    "    data=df_attack,\n",
    "    test_size=5_000,\n",
    "    train_size=15_000,\n",
    "    pct_positive=0.5)"
   ]
  },
  {
   "cell_type": "code",
   "execution_count": 4,
   "id": "30a43696-a732-41f1-934b-92699f1541f8",
   "metadata": {},
   "outputs": [
    {
     "data": {
      "text/html": [
       "<div>\n",
       "<style scoped>\n",
       "    .dataframe tbody tr th:only-of-type {\n",
       "        vertical-align: middle;\n",
       "    }\n",
       "\n",
       "    .dataframe tbody tr th {\n",
       "        vertical-align: top;\n",
       "    }\n",
       "\n",
       "    .dataframe thead th {\n",
       "        text-align: right;\n",
       "    }\n",
       "</style>\n",
       "<table border=\"1\" class=\"dataframe\">\n",
       "  <thead>\n",
       "    <tr style=\"text-align: right;\">\n",
       "      <th></th>\n",
       "      <th>Train (n=15000)</th>\n",
       "      <th>Test (n=5000)</th>\n",
       "    </tr>\n",
       "  </thead>\n",
       "  <tbody>\n",
       "    <tr>\n",
       "      <th>0</th>\n",
       "      <td>0.5</td>\n",
       "      <td>0.8672</td>\n",
       "    </tr>\n",
       "    <tr>\n",
       "      <th>1</th>\n",
       "      <td>0.5</td>\n",
       "      <td>0.1328</td>\n",
       "    </tr>\n",
       "  </tbody>\n",
       "</table>\n",
       "</div>"
      ],
      "text/plain": [
       "   Train (n=15000)  Test (n=5000)\n",
       "0              0.5         0.8672\n",
       "1              0.5         0.1328"
      ]
     },
     "execution_count": 4,
     "metadata": {},
     "output_type": "execute_result"
    }
   ],
   "source": [
    "# Check number of observations and class proportions \n",
    "pd.DataFrame({\n",
    "    f'Train (n={y_train.shape[0]})': y_train.value_counts(normalize=True),\n",
    "    f'Test (n={y_test.shape[0]})': y_test.value_counts(normalize=True)})"
   ]
  },
  {
   "cell_type": "code",
   "execution_count": 5,
   "id": "b5d7e650-0d05-4e11-9803-8e4cc14e50a2",
   "metadata": {},
   "outputs": [
    {
     "name": "stdout",
     "output_type": "stream",
     "text": [
      "Train:  0.892\n",
      "Test:  0.8906\n"
     ]
    }
   ],
   "source": [
    "# Start with a basic pipeline and see how it performs\n",
    "pipe = Pipeline([\n",
    "    ('cvec', CountVectorizer()),\n",
    "    ('nb', MultinomialNB())\n",
    "])\n",
    "\n",
    "pipe.fit(X_train, y_train)\n",
    "\n",
    "print('Train: ', round(pipe.score(X_train, y_train), 4))\n",
    "print('Test: ', round(pipe.score(X_test, y_test), 4))"
   ]
  },
  {
   "cell_type": "code",
   "execution_count": 6,
   "id": "98326b54-f6ac-4b78-ab7c-7648b5f311f8",
   "metadata": {},
   "outputs": [],
   "source": [
    "# Grid search over some cvec parameters to see if we can do better\n",
    "params = {\n",
    "    'cvec__stop_words': [None, 'english'],\n",
    "    'cvec__ngram_range': [(1, 1), (1, 2), (2, 2)]                         \n",
    "}\n",
    "\n",
    "gs = GridSearchCV(pipe, params, cv=3)"
   ]
  },
  {
   "cell_type": "code",
   "execution_count": 7,
   "id": "05791f0f-d454-4ae3-9c57-459727c8089b",
   "metadata": {},
   "outputs": [
    {
     "name": "stdout",
     "output_type": "stream",
     "text": [
      "Wall time: 1min 6s\n"
     ]
    },
    {
     "data": {
      "text/plain": [
       "GridSearchCV(cv=3,\n",
       "             estimator=Pipeline(steps=[('cvec', CountVectorizer()),\n",
       "                                       ('nb', MultinomialNB())]),\n",
       "             param_grid={'cvec__ngram_range': [(1, 1), (1, 2), (2, 2)],\n",
       "                         'cvec__stop_words': [None, 'english']})"
      ]
     },
     "execution_count": 7,
     "metadata": {},
     "output_type": "execute_result"
    }
   ],
   "source": [
    "%%time\n",
    "gs.fit(X_train, y_train)"
   ]
  },
  {
   "cell_type": "code",
   "execution_count": 8,
   "id": "04bc7938-cc85-4e6d-aa52-09eb6e0d3428",
   "metadata": {},
   "outputs": [
    {
     "name": "stdout",
     "output_type": "stream",
     "text": [
      "Best score of 0.8328000000000001\n",
      "with params {'cvec__ngram_range': (1, 1), 'cvec__stop_words': None}\n"
     ]
    }
   ],
   "source": [
    "print(f'Best score of {gs.best_score_}')\n",
    "print(f'with params {gs.best_params_}')"
   ]
  },
  {
   "cell_type": "code",
   "execution_count": 9,
   "id": "ffd07693-6192-4e58-9a76-a0b093541d49",
   "metadata": {},
   "outputs": [],
   "source": [
    "# So basically the defaults.\n",
    "# Let's try this with character ngrams split at word boundaries.\n",
    "params = {\n",
    "    'cvec__analyzer': ['char_wb'],\n",
    "    'cvec__ngram_range': [(2, 2), (3, 3), (4, 4), (5, 5)]\n",
    "}\n",
    "\n",
    "gs = GridSearchCV(pipe, params, cv=3)"
   ]
  },
  {
   "cell_type": "code",
   "execution_count": 10,
   "id": "52549c6a-436a-4430-922d-b15936922c26",
   "metadata": {},
   "outputs": [
    {
     "name": "stdout",
     "output_type": "stream",
     "text": [
      "Wall time: 1min 23s\n"
     ]
    },
    {
     "data": {
      "text/plain": [
       "GridSearchCV(cv=3,\n",
       "             estimator=Pipeline(steps=[('cvec', CountVectorizer()),\n",
       "                                       ('nb', MultinomialNB())]),\n",
       "             param_grid={'cvec__analyzer': ['char_wb'],\n",
       "                         'cvec__ngram_range': [(2, 2), (3, 3), (4, 4), (5, 5)]})"
      ]
     },
     "execution_count": 10,
     "metadata": {},
     "output_type": "execute_result"
    }
   ],
   "source": [
    "%%time\n",
    "gs.fit(X_train, y_train)"
   ]
  },
  {
   "cell_type": "code",
   "execution_count": 11,
   "id": "adb8a288-b889-4e79-897f-6c4f1b57d5f0",
   "metadata": {},
   "outputs": [
    {
     "name": "stdout",
     "output_type": "stream",
     "text": [
      "Best score of 0.8191333333333333\n",
      "with params {'cvec__analyzer': 'char_wb', 'cvec__ngram_range': (5, 5)}\n"
     ]
    }
   ],
   "source": [
    "print(f'Best score of {gs.best_score_}')\n",
    "print(f'with params {gs.best_params_}')"
   ]
  },
  {
   "cell_type": "code",
   "execution_count": 12,
   "id": "dcad40d8-b55b-4572-b474-716ab9179a65",
   "metadata": {},
   "outputs": [],
   "source": [
    "# So what was the best Naive Bayes model? The default."
   ]
  },
  {
   "cell_type": "markdown",
   "id": "b9c36a5c-09e0-4289-bf6d-91a537e73b3a",
   "metadata": {},
   "source": [
    "## Aggression"
   ]
  },
  {
   "cell_type": "code",
   "execution_count": 13,
   "id": "b66724cd-2795-467a-8b8c-92e3f35ace51",
   "metadata": {},
   "outputs": [
    {
     "name": "stdout",
     "output_type": "stream",
     "text": [
      "<class 'pandas.core.frame.DataFrame'>\n",
      "Int64Index: 115493 entries, 37675 to 699897151\n",
      "Data columns (total 9 columns):\n",
      " #   Column            Non-Null Count   Dtype  \n",
      "---  ------            --------------   -----  \n",
      " 0   comment           115493 non-null  object \n",
      " 1   year              115493 non-null  int64  \n",
      " 2   logged_in         115493 non-null  bool   \n",
      " 3   ns                115493 non-null  object \n",
      " 4   sample            115493 non-null  object \n",
      " 5   split             115493 non-null  object \n",
      " 6   aggression        115493 non-null  float64\n",
      " 7   aggression_score  115493 non-null  float64\n",
      " 8   label             115493 non-null  int64  \n",
      "dtypes: bool(1), float64(2), int64(2), object(4)\n",
      "memory usage: 8.0+ MB\n"
     ]
    },
    {
     "data": {
      "text/html": [
       "<div>\n",
       "<style scoped>\n",
       "    .dataframe tbody tr th:only-of-type {\n",
       "        vertical-align: middle;\n",
       "    }\n",
       "\n",
       "    .dataframe tbody tr th {\n",
       "        vertical-align: top;\n",
       "    }\n",
       "\n",
       "    .dataframe thead th {\n",
       "        text-align: right;\n",
       "    }\n",
       "</style>\n",
       "<table border=\"1\" class=\"dataframe\">\n",
       "  <thead>\n",
       "    <tr style=\"text-align: right;\">\n",
       "      <th></th>\n",
       "      <th>comment</th>\n",
       "      <th>year</th>\n",
       "      <th>logged_in</th>\n",
       "      <th>ns</th>\n",
       "      <th>sample</th>\n",
       "      <th>split</th>\n",
       "      <th>aggression</th>\n",
       "      <th>aggression_score</th>\n",
       "      <th>label</th>\n",
       "    </tr>\n",
       "    <tr>\n",
       "      <th>rev_id</th>\n",
       "      <th></th>\n",
       "      <th></th>\n",
       "      <th></th>\n",
       "      <th></th>\n",
       "      <th></th>\n",
       "      <th></th>\n",
       "      <th></th>\n",
       "      <th></th>\n",
       "      <th></th>\n",
       "    </tr>\n",
       "  </thead>\n",
       "  <tbody>\n",
       "    <tr>\n",
       "      <th>37675</th>\n",
       "      <td>This is not creative  Those are the dictionary...</td>\n",
       "      <td>2002</td>\n",
       "      <td>True</td>\n",
       "      <td>article</td>\n",
       "      <td>random</td>\n",
       "      <td>train</td>\n",
       "      <td>0.1</td>\n",
       "      <td>0.000000</td>\n",
       "      <td>0</td>\n",
       "    </tr>\n",
       "    <tr>\n",
       "      <th>44816</th>\n",
       "      <td>the term standard model is itself less NPOV t...</td>\n",
       "      <td>2002</td>\n",
       "      <td>True</td>\n",
       "      <td>article</td>\n",
       "      <td>random</td>\n",
       "      <td>train</td>\n",
       "      <td>0.0</td>\n",
       "      <td>0.111111</td>\n",
       "      <td>0</td>\n",
       "    </tr>\n",
       "    <tr>\n",
       "      <th>49851</th>\n",
       "      <td>True or false the situation as of March 2002 w...</td>\n",
       "      <td>2002</td>\n",
       "      <td>True</td>\n",
       "      <td>article</td>\n",
       "      <td>random</td>\n",
       "      <td>train</td>\n",
       "      <td>0.0</td>\n",
       "      <td>0.100000</td>\n",
       "      <td>0</td>\n",
       "    </tr>\n",
       "  </tbody>\n",
       "</table>\n",
       "</div>"
      ],
      "text/plain": [
       "                                                  comment  year  logged_in  \\\n",
       "rev_id                                                                       \n",
       "37675   This is not creative  Those are the dictionary...  2002       True   \n",
       "44816    the term standard model is itself less NPOV t...  2002       True   \n",
       "49851   True or false the situation as of March 2002 w...  2002       True   \n",
       "\n",
       "             ns  sample  split  aggression  aggression_score  label  \n",
       "rev_id                                                               \n",
       "37675   article  random  train         0.1          0.000000      0  \n",
       "44816   article  random  train         0.0          0.111111      0  \n",
       "49851   article  random  train         0.0          0.100000      0  "
      ]
     },
     "execution_count": 13,
     "metadata": {},
     "output_type": "execute_result"
    }
   ],
   "source": [
    "# Load data\n",
    "df_aggression = pd.read_csv('../data/aggression_clean_data.csv', index_col='rev_id')\n",
    "df_aggression.info()\n",
    "df_aggression.head(3)"
   ]
  },
  {
   "cell_type": "code",
   "execution_count": 14,
   "id": "5cdf3757-c749-41ab-b203-5018ed8d9c27",
   "metadata": {},
   "outputs": [],
   "source": [
    "# Rename label --> target\n",
    "df_aggression.rename({'label': 'target'}, axis=1, inplace=True)"
   ]
  },
  {
   "cell_type": "code",
   "execution_count": 15,
   "id": "a776dc30-bcac-47bd-a44f-e4772e0a2cf2",
   "metadata": {},
   "outputs": [],
   "source": [
    "# Split into training/testing\n",
    "# Use custom function to balance classes by downsampling (training data only)\n",
    "\n",
    "X_train, X_test, y_train, y_test = split_data(\n",
    "    data=df_aggression,\n",
    "    test_size=5_000,\n",
    "    train_size=15_000,\n",
    "    pct_positive=0.5)"
   ]
  },
  {
   "cell_type": "code",
   "execution_count": 16,
   "id": "1dae6422-65c8-4540-8eaf-823230d4dc51",
   "metadata": {},
   "outputs": [
    {
     "data": {
      "text/html": [
       "<div>\n",
       "<style scoped>\n",
       "    .dataframe tbody tr th:only-of-type {\n",
       "        vertical-align: middle;\n",
       "    }\n",
       "\n",
       "    .dataframe tbody tr th {\n",
       "        vertical-align: top;\n",
       "    }\n",
       "\n",
       "    .dataframe thead th {\n",
       "        text-align: right;\n",
       "    }\n",
       "</style>\n",
       "<table border=\"1\" class=\"dataframe\">\n",
       "  <thead>\n",
       "    <tr style=\"text-align: right;\">\n",
       "      <th></th>\n",
       "      <th>Train (n=15000)</th>\n",
       "      <th>Test (n=5000)</th>\n",
       "    </tr>\n",
       "  </thead>\n",
       "  <tbody>\n",
       "    <tr>\n",
       "      <th>0</th>\n",
       "      <td>0.5</td>\n",
       "      <td>0.8512</td>\n",
       "    </tr>\n",
       "    <tr>\n",
       "      <th>1</th>\n",
       "      <td>0.5</td>\n",
       "      <td>0.1488</td>\n",
       "    </tr>\n",
       "  </tbody>\n",
       "</table>\n",
       "</div>"
      ],
      "text/plain": [
       "   Train (n=15000)  Test (n=5000)\n",
       "0              0.5         0.8512\n",
       "1              0.5         0.1488"
      ]
     },
     "execution_count": 16,
     "metadata": {},
     "output_type": "execute_result"
    }
   ],
   "source": [
    "# Check number of observations and class proportions \n",
    "pd.DataFrame({\n",
    "    f'Train (n={y_train.shape[0]})': y_train.value_counts(normalize=True),\n",
    "    f'Test (n={y_test.shape[0]})': y_test.value_counts(normalize=True)})"
   ]
  },
  {
   "cell_type": "code",
   "execution_count": 17,
   "id": "e2a087bf-803c-4563-a54d-76b5af5438aa",
   "metadata": {},
   "outputs": [
    {
     "name": "stdout",
     "output_type": "stream",
     "text": [
      "Train:  0.8913\n",
      "Test:  0.869\n"
     ]
    }
   ],
   "source": [
    "# Start with a basic pipeline and see how it performs\n",
    "pipe = Pipeline([\n",
    "    ('cvec', CountVectorizer()),\n",
    "    ('nb', MultinomialNB())\n",
    "])\n",
    "\n",
    "pipe.fit(X_train, y_train)\n",
    "\n",
    "print('Train: ', round(pipe.score(X_train, y_train), 4))\n",
    "print('Test: ', round(pipe.score(X_test, y_test), 4))"
   ]
  },
  {
   "cell_type": "code",
   "execution_count": 18,
   "id": "d7245bf7-41b8-4a9e-aa6f-db85c52dfba6",
   "metadata": {},
   "outputs": [],
   "source": [
    "# Grid search over some cvec parameters to see if we can do better\n",
    "params = {\n",
    "    'cvec__stop_words': [None, 'english'],\n",
    "    'cvec__ngram_range': [(1, 1), (1, 2), (2, 2)]                         \n",
    "}\n",
    "\n",
    "gs = GridSearchCV(pipe, params, cv=3)"
   ]
  },
  {
   "cell_type": "code",
   "execution_count": 19,
   "id": "e8364144-da2f-43b4-87c7-6529d9ef4903",
   "metadata": {},
   "outputs": [
    {
     "name": "stdout",
     "output_type": "stream",
     "text": [
      "Wall time: 55.9 s\n"
     ]
    },
    {
     "data": {
      "text/plain": [
       "GridSearchCV(cv=3,\n",
       "             estimator=Pipeline(steps=[('cvec', CountVectorizer()),\n",
       "                                       ('nb', MultinomialNB())]),\n",
       "             param_grid={'cvec__ngram_range': [(1, 1), (1, 2), (2, 2)],\n",
       "                         'cvec__stop_words': [None, 'english']})"
      ]
     },
     "execution_count": 19,
     "metadata": {},
     "output_type": "execute_result"
    }
   ],
   "source": [
    "%%time\n",
    "gs.fit(X_train, y_train)"
   ]
  },
  {
   "cell_type": "code",
   "execution_count": 20,
   "id": "d450b230-57cf-4c8c-a278-8f052a54de3f",
   "metadata": {},
   "outputs": [
    {
     "name": "stdout",
     "output_type": "stream",
     "text": [
      "Best score of 0.8280666666666666\n",
      "with params {'cvec__ngram_range': (1, 1), 'cvec__stop_words': None}\n"
     ]
    }
   ],
   "source": [
    "print(f'Best score of {gs.best_score_}')\n",
    "print(f'with params {gs.best_params_}')"
   ]
  },
  {
   "cell_type": "code",
   "execution_count": 21,
   "id": "20a85037-c467-4ec6-aba2-f12792b9cc91",
   "metadata": {},
   "outputs": [],
   "source": [
    "# So basically the defaults.\n",
    "# Let's try this with character ngrams split at word boundaries.\n",
    "params = {\n",
    "    'cvec__analyzer': ['char_wb'],\n",
    "    'cvec__ngram_range': [(2, 2), (3, 3), (4, 4), (5, 5)]\n",
    "}\n",
    "\n",
    "gs = GridSearchCV(pipe, params, cv=3)"
   ]
  },
  {
   "cell_type": "code",
   "execution_count": 24,
   "id": "e93db0ca-d3a5-4144-a2da-79a94a46f294",
   "metadata": {},
   "outputs": [
    {
     "name": "stdout",
     "output_type": "stream",
     "text": [
      "Wall time: 1min 28s\n"
     ]
    },
    {
     "data": {
      "text/plain": [
       "GridSearchCV(cv=3,\n",
       "             estimator=Pipeline(steps=[('cvec', CountVectorizer()),\n",
       "                                       ('nb', MultinomialNB())]),\n",
       "             param_grid={'cvec__analyzer': ['char_wb'],\n",
       "                         'cvec__ngram_range': [(2, 2), (3, 3), (4, 4), (5, 5)]})"
      ]
     },
     "execution_count": 24,
     "metadata": {},
     "output_type": "execute_result"
    }
   ],
   "source": [
    "%%time\n",
    "gs.fit(X_train, y_train)"
   ]
  },
  {
   "cell_type": "code",
   "execution_count": 25,
   "id": "fe29cde3-e0d0-4848-8eb4-1eb2b1d92cb0",
   "metadata": {},
   "outputs": [
    {
     "name": "stdout",
     "output_type": "stream",
     "text": [
      "Best score of 0.8186\n",
      "with params {'cvec__analyzer': 'char_wb', 'cvec__ngram_range': (5, 5)}\n"
     ]
    }
   ],
   "source": [
    "print(f'Best score of {gs.best_score_}')\n",
    "print(f'with params {gs.best_params_}')"
   ]
  },
  {
   "cell_type": "markdown",
   "id": "c4c23337-888b-4687-994b-9444b5f22531",
   "metadata": {},
   "source": [
    "## Toxicity"
   ]
  },
  {
   "cell_type": "code",
   "execution_count": 32,
   "id": "ef0b3b34-0e44-4f99-8ec5-22b1e2c13da6",
   "metadata": {},
   "outputs": [
    {
     "name": "stdout",
     "output_type": "stream",
     "text": [
      "<class 'pandas.core.frame.DataFrame'>\n",
      "Int64Index: 159676 entries, 2232 to 699897151\n",
      "Data columns (total 2 columns):\n",
      " #   Column    Non-Null Count   Dtype \n",
      "---  ------    --------------   ----- \n",
      " 0   comment   159666 non-null  object\n",
      " 1   toxicity  159676 non-null  int64 \n",
      "dtypes: int64(1), object(1)\n",
      "memory usage: 3.7+ MB\n"
     ]
    },
    {
     "data": {
      "text/html": [
       "<div>\n",
       "<style scoped>\n",
       "    .dataframe tbody tr th:only-of-type {\n",
       "        vertical-align: middle;\n",
       "    }\n",
       "\n",
       "    .dataframe tbody tr th {\n",
       "        vertical-align: top;\n",
       "    }\n",
       "\n",
       "    .dataframe thead th {\n",
       "        text-align: right;\n",
       "    }\n",
       "</style>\n",
       "<table border=\"1\" class=\"dataframe\">\n",
       "  <thead>\n",
       "    <tr style=\"text-align: right;\">\n",
       "      <th></th>\n",
       "      <th>comment</th>\n",
       "      <th>toxicity</th>\n",
       "    </tr>\n",
       "    <tr>\n",
       "      <th>rev_id</th>\n",
       "      <th></th>\n",
       "      <th></th>\n",
       "    </tr>\n",
       "  </thead>\n",
       "  <tbody>\n",
       "    <tr>\n",
       "      <th>2232</th>\n",
       "      <td>This::One can make an analogy in mathematical ...</td>\n",
       "      <td>0</td>\n",
       "    </tr>\n",
       "    <tr>\n",
       "      <th>4216</th>\n",
       "      <td>:Clarification for you  (and Zundark's right, ...</td>\n",
       "      <td>0</td>\n",
       "    </tr>\n",
       "    <tr>\n",
       "      <th>8953</th>\n",
       "      <td>Elected or Electoral? JHK</td>\n",
       "      <td>0</td>\n",
       "    </tr>\n",
       "  </tbody>\n",
       "</table>\n",
       "</div>"
      ],
      "text/plain": [
       "                                                  comment  toxicity\n",
       "rev_id                                                             \n",
       "2232    This::One can make an analogy in mathematical ...         0\n",
       "4216    :Clarification for you  (and Zundark's right, ...         0\n",
       "8953                            Elected or Electoral? JHK         0"
      ]
     },
     "execution_count": 32,
     "metadata": {},
     "output_type": "execute_result"
    }
   ],
   "source": [
    "# Load data\n",
    "df_toxicity = pd.read_csv('../data/toxicity_cleaned.csv', index_col='rev_id')\n",
    "df_toxicity.info()\n",
    "df_toxicity.head(3)"
   ]
  },
  {
   "cell_type": "code",
   "execution_count": 33,
   "id": "b3b889a9-be19-4c69-babb-cbe745201593",
   "metadata": {},
   "outputs": [],
   "source": [
    "# Rename column toxicity --> target\n",
    "df_toxicity.rename({'toxicity': 'target'}, axis=1, inplace=True)"
   ]
  },
  {
   "cell_type": "code",
   "execution_count": 35,
   "id": "a45ecd8e-7a74-499d-8424-6cb8a349fca9",
   "metadata": {},
   "outputs": [
    {
     "data": {
      "text/plain": [
       "comment    10\n",
       "target      0\n",
       "dtype: int64"
      ]
     },
     "execution_count": 35,
     "metadata": {},
     "output_type": "execute_result"
    }
   ],
   "source": [
    "# Are there NaN's?\n",
    "df_toxicity.isna().sum()"
   ]
  },
  {
   "cell_type": "code",
   "execution_count": 36,
   "id": "66f64a1f-e558-45a9-ab86-17107b91215a",
   "metadata": {},
   "outputs": [],
   "source": [
    "# Drop 'em.\n",
    "df_toxicity.dropna(inplace=True)"
   ]
  },
  {
   "cell_type": "code",
   "execution_count": 37,
   "id": "68c66a34-c292-4c77-a82b-f8afb92bd74c",
   "metadata": {},
   "outputs": [],
   "source": [
    "# Split into training/testing\n",
    "# Use custom function to balance classes by downsampling (training data only)\n",
    "\n",
    "X_train, X_test, y_train, y_test = split_data(\n",
    "    data=df_toxicity,\n",
    "    test_size=5_000,\n",
    "    train_size=15_000,\n",
    "    pct_positive=0.5)"
   ]
  },
  {
   "cell_type": "code",
   "execution_count": 38,
   "id": "77ed53f6-4732-4412-aa5b-378c5ec9100e",
   "metadata": {},
   "outputs": [
    {
     "data": {
      "text/html": [
       "<div>\n",
       "<style scoped>\n",
       "    .dataframe tbody tr th:only-of-type {\n",
       "        vertical-align: middle;\n",
       "    }\n",
       "\n",
       "    .dataframe tbody tr th {\n",
       "        vertical-align: top;\n",
       "    }\n",
       "\n",
       "    .dataframe thead th {\n",
       "        text-align: right;\n",
       "    }\n",
       "</style>\n",
       "<table border=\"1\" class=\"dataframe\">\n",
       "  <thead>\n",
       "    <tr style=\"text-align: right;\">\n",
       "      <th></th>\n",
       "      <th>Train (n=15000)</th>\n",
       "      <th>Test (n=5000)</th>\n",
       "    </tr>\n",
       "  </thead>\n",
       "  <tbody>\n",
       "    <tr>\n",
       "      <th>0</th>\n",
       "      <td>0.5</td>\n",
       "      <td>0.8886</td>\n",
       "    </tr>\n",
       "    <tr>\n",
       "      <th>1</th>\n",
       "      <td>0.5</td>\n",
       "      <td>0.1114</td>\n",
       "    </tr>\n",
       "  </tbody>\n",
       "</table>\n",
       "</div>"
      ],
      "text/plain": [
       "   Train (n=15000)  Test (n=5000)\n",
       "0              0.5         0.8886\n",
       "1              0.5         0.1114"
      ]
     },
     "execution_count": 38,
     "metadata": {},
     "output_type": "execute_result"
    }
   ],
   "source": [
    "# Check number of observations and class proportions \n",
    "pd.DataFrame({\n",
    "    f'Train (n={y_train.shape[0]})': y_train.value_counts(normalize=True),\n",
    "    f'Test (n={y_test.shape[0]})': y_test.value_counts(normalize=True)})"
   ]
  },
  {
   "cell_type": "code",
   "execution_count": 39,
   "id": "e40b06aa-5055-449f-b1ca-bd62f6aa1077",
   "metadata": {},
   "outputs": [
    {
     "name": "stdout",
     "output_type": "stream",
     "text": [
      "Train:  0.9058\n",
      "Test:  0.8864\n"
     ]
    }
   ],
   "source": [
    "# Start with a basic pipeline and see how it performs\n",
    "pipe = Pipeline([\n",
    "    ('cvec', CountVectorizer()),\n",
    "    ('nb', MultinomialNB())\n",
    "])\n",
    "\n",
    "pipe.fit(X_train, y_train)\n",
    "\n",
    "print('Train: ', round(pipe.score(X_train, y_train), 4))\n",
    "print('Test: ', round(pipe.score(X_test, y_test), 4))"
   ]
  },
  {
   "cell_type": "code",
   "execution_count": 40,
   "id": "330afd04-51dd-41c5-9909-6534712e4059",
   "metadata": {},
   "outputs": [],
   "source": [
    "# Grid search over some cvec parameters to see if we can do better\n",
    "params = {\n",
    "    'cvec__stop_words': [None, 'english'],\n",
    "    'cvec__ngram_range': [(1, 1), (1, 2), (2, 2)]                         \n",
    "}\n",
    "\n",
    "gs = GridSearchCV(pipe, params, cv=3)"
   ]
  },
  {
   "cell_type": "code",
   "execution_count": 41,
   "id": "7ac88f99-3fa2-4a49-a1a7-f379a100e803",
   "metadata": {},
   "outputs": [
    {
     "name": "stdout",
     "output_type": "stream",
     "text": [
      "Wall time: 1min 3s\n"
     ]
    },
    {
     "data": {
      "text/plain": [
       "GridSearchCV(cv=3,\n",
       "             estimator=Pipeline(steps=[('cvec', CountVectorizer()),\n",
       "                                       ('nb', MultinomialNB())]),\n",
       "             param_grid={'cvec__ngram_range': [(1, 1), (1, 2), (2, 2)],\n",
       "                         'cvec__stop_words': [None, 'english']})"
      ]
     },
     "execution_count": 41,
     "metadata": {},
     "output_type": "execute_result"
    }
   ],
   "source": [
    "%%time\n",
    "gs.fit(X_train, y_train)"
   ]
  },
  {
   "cell_type": "code",
   "execution_count": 42,
   "id": "975daefb-db85-4e7d-a617-f9e9429a5be5",
   "metadata": {},
   "outputs": [
    {
     "name": "stdout",
     "output_type": "stream",
     "text": [
      "Best score of 0.8515999999999999\n",
      "with params {'cvec__ngram_range': (1, 1), 'cvec__stop_words': None}\n"
     ]
    }
   ],
   "source": [
    "print(f'Best score of {gs.best_score_}')\n",
    "print(f'with params {gs.best_params_}')"
   ]
  },
  {
   "cell_type": "code",
   "execution_count": 43,
   "id": "0055a818-d6c9-4c77-b3dc-37ed2337ff43",
   "metadata": {},
   "outputs": [],
   "source": [
    "# So basically the defaults.\n",
    "# Let's try this with character ngrams split at word boundaries.\n",
    "params = {\n",
    "    'cvec__analyzer': ['char_wb'],\n",
    "    'cvec__ngram_range': [(2, 2), (3, 3), (4, 4), (5, 5)]\n",
    "}\n",
    "\n",
    "gs = GridSearchCV(pipe, params, cv=3)"
   ]
  },
  {
   "cell_type": "code",
   "execution_count": 46,
   "id": "5cca1464-b9d2-4844-afc8-db72104556bb",
   "metadata": {},
   "outputs": [
    {
     "name": "stdout",
     "output_type": "stream",
     "text": [
      "Wall time: 1min 30s\n"
     ]
    },
    {
     "data": {
      "text/plain": [
       "GridSearchCV(cv=3,\n",
       "             estimator=Pipeline(steps=[('cvec', CountVectorizer()),\n",
       "                                       ('nb', MultinomialNB())]),\n",
       "             param_grid={'cvec__analyzer': ['char_wb'],\n",
       "                         'cvec__ngram_range': [(2, 2), (3, 3), (4, 4), (5, 5)]})"
      ]
     },
     "execution_count": 46,
     "metadata": {},
     "output_type": "execute_result"
    }
   ],
   "source": [
    "%%time\n",
    "gs.fit(X_train, y_train)"
   ]
  },
  {
   "cell_type": "code",
   "execution_count": 47,
   "id": "90ba60d4-94c1-404a-8599-e3591e0735c2",
   "metadata": {},
   "outputs": [
    {
     "name": "stdout",
     "output_type": "stream",
     "text": [
      "Best score of 0.8386\n",
      "with params {'cvec__analyzer': 'char_wb', 'cvec__ngram_range': (5, 5)}\n"
     ]
    }
   ],
   "source": [
    "print(f'Best score of {gs.best_score_}')\n",
    "print(f'with params {gs.best_params_}')"
   ]
  },
  {
   "cell_type": "markdown",
   "id": "d373482d-cb90-4f3f-aea2-a987a990ab1b",
   "metadata": {},
   "source": [
    "## Summary\n",
    "|           | Attack | Aggression | Toxicity | \n",
    "| --------- | ------ | ---------- | -------- |\n",
    "| **Train** | 0.89   | 0.89       | 0.90     |\n",
    "| **Test**  | 0.89   | 0.87       | 0.89     |"
   ]
  }
 ],
 "metadata": {
  "kernelspec": {
   "display_name": "Python 3",
   "language": "python",
   "name": "python3"
  },
  "language_info": {
   "codemirror_mode": {
    "name": "ipython",
    "version": 3
   },
   "file_extension": ".py",
   "mimetype": "text/x-python",
   "name": "python",
   "nbconvert_exporter": "python",
   "pygments_lexer": "ipython3",
   "version": "3.8.8"
  }
 },
 "nbformat": 4,
 "nbformat_minor": 5
}
