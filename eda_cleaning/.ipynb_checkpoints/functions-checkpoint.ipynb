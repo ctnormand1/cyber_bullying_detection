{
 "cells": [
  {
   "cell_type": "code",
   "execution_count": 1,
   "id": "ff614e6e-ce23-453f-a870-a09feb14adfe",
   "metadata": {},
   "outputs": [],
   "source": [
    "import pandas as pd\n",
    "import numpy as np\n",
    "from eda_functions import merge_with_target, split_data\n",
    "import warnings"
   ]
  },
  {
   "cell_type": "code",
   "execution_count": 2,
   "id": "4c476607-4835-48cf-b0d9-23c8f5044b1e",
   "metadata": {},
   "outputs": [
    {
     "data": {
      "text/html": [
       "<div>\n",
       "<style scoped>\n",
       "    .dataframe tbody tr th:only-of-type {\n",
       "        vertical-align: middle;\n",
       "    }\n",
       "\n",
       "    .dataframe tbody tr th {\n",
       "        vertical-align: top;\n",
       "    }\n",
       "\n",
       "    .dataframe thead th {\n",
       "        text-align: right;\n",
       "    }\n",
       "</style>\n",
       "<table border=\"1\" class=\"dataframe\">\n",
       "  <thead>\n",
       "    <tr style=\"text-align: right;\">\n",
       "      <th></th>\n",
       "      <th>rev_id</th>\n",
       "      <th>comment</th>\n",
       "      <th>year</th>\n",
       "      <th>logged_in</th>\n",
       "      <th>ns</th>\n",
       "      <th>sample</th>\n",
       "      <th>split</th>\n",
       "    </tr>\n",
       "  </thead>\n",
       "  <tbody>\n",
       "    <tr>\n",
       "      <th>0</th>\n",
       "      <td>37675</td>\n",
       "      <td>`-NEWLINE_TOKENThis is not ``creative``.  Thos...</td>\n",
       "      <td>2002</td>\n",
       "      <td>True</td>\n",
       "      <td>article</td>\n",
       "      <td>random</td>\n",
       "      <td>train</td>\n",
       "    </tr>\n",
       "    <tr>\n",
       "      <th>1</th>\n",
       "      <td>44816</td>\n",
       "      <td>`NEWLINE_TOKENNEWLINE_TOKEN:: the term ``stand...</td>\n",
       "      <td>2002</td>\n",
       "      <td>True</td>\n",
       "      <td>article</td>\n",
       "      <td>random</td>\n",
       "      <td>train</td>\n",
       "    </tr>\n",
       "    <tr>\n",
       "      <th>2</th>\n",
       "      <td>49851</td>\n",
       "      <td>NEWLINE_TOKENNEWLINE_TOKENTrue or false, the s...</td>\n",
       "      <td>2002</td>\n",
       "      <td>True</td>\n",
       "      <td>article</td>\n",
       "      <td>random</td>\n",
       "      <td>train</td>\n",
       "    </tr>\n",
       "  </tbody>\n",
       "</table>\n",
       "</div>"
      ],
      "text/plain": [
       "   rev_id                                            comment  year  logged_in  \\\n",
       "0   37675  `-NEWLINE_TOKENThis is not ``creative``.  Thos...  2002       True   \n",
       "1   44816  `NEWLINE_TOKENNEWLINE_TOKEN:: the term ``stand...  2002       True   \n",
       "2   49851  NEWLINE_TOKENNEWLINE_TOKENTrue or false, the s...  2002       True   \n",
       "\n",
       "        ns  sample  split  \n",
       "0  article  random  train  \n",
       "1  article  random  train  \n",
       "2  article  random  train  "
      ]
     },
     "execution_count": 2,
     "metadata": {},
     "output_type": "execute_result"
    }
   ],
   "source": [
    "df_comments = pd.read_csv('../data/aggression_annotated_comments.tsv', sep='\\t')\n",
    "df_comments.head(3)"
   ]
  },
  {
   "cell_type": "code",
   "execution_count": 3,
   "id": "4e4ce9bd-153a-4db0-aead-b3584d029fec",
   "metadata": {},
   "outputs": [
    {
     "data": {
      "text/html": [
       "<div>\n",
       "<style scoped>\n",
       "    .dataframe tbody tr th:only-of-type {\n",
       "        vertical-align: middle;\n",
       "    }\n",
       "\n",
       "    .dataframe tbody tr th {\n",
       "        vertical-align: top;\n",
       "    }\n",
       "\n",
       "    .dataframe thead th {\n",
       "        text-align: right;\n",
       "    }\n",
       "</style>\n",
       "<table border=\"1\" class=\"dataframe\">\n",
       "  <thead>\n",
       "    <tr style=\"text-align: right;\">\n",
       "      <th></th>\n",
       "      <th>rev_id</th>\n",
       "      <th>worker_id</th>\n",
       "      <th>aggression</th>\n",
       "      <th>aggression_score</th>\n",
       "    </tr>\n",
       "  </thead>\n",
       "  <tbody>\n",
       "    <tr>\n",
       "      <th>0</th>\n",
       "      <td>37675</td>\n",
       "      <td>1362</td>\n",
       "      <td>1.0</td>\n",
       "      <td>-1.0</td>\n",
       "    </tr>\n",
       "    <tr>\n",
       "      <th>1</th>\n",
       "      <td>37675</td>\n",
       "      <td>2408</td>\n",
       "      <td>0.0</td>\n",
       "      <td>1.0</td>\n",
       "    </tr>\n",
       "    <tr>\n",
       "      <th>2</th>\n",
       "      <td>37675</td>\n",
       "      <td>1493</td>\n",
       "      <td>0.0</td>\n",
       "      <td>0.0</td>\n",
       "    </tr>\n",
       "  </tbody>\n",
       "</table>\n",
       "</div>"
      ],
      "text/plain": [
       "   rev_id  worker_id  aggression  aggression_score\n",
       "0   37675       1362         1.0              -1.0\n",
       "1   37675       2408         0.0               1.0\n",
       "2   37675       1493         0.0               0.0"
      ]
     },
     "execution_count": 3,
     "metadata": {},
     "output_type": "execute_result"
    }
   ],
   "source": [
    "df_scores = pd.read_csv('../data/aggression_annotations.tsv', sep='\\t')\n",
    "df_scores.head(3)"
   ]
  },
  {
   "cell_type": "code",
   "execution_count": 4,
   "id": "f0610113-ac30-4f62-8e8a-b0561fcdfa00",
   "metadata": {},
   "outputs": [],
   "source": [
    "df = merge_with_target(df_comments, df_scores, 'aggression')"
   ]
  },
  {
   "cell_type": "code",
   "execution_count": 5,
   "id": "68cbcdc6-deca-4c7e-bd4b-037ce84def9c",
   "metadata": {},
   "outputs": [
    {
     "data": {
      "text/html": [
       "<div>\n",
       "<style scoped>\n",
       "    .dataframe tbody tr th:only-of-type {\n",
       "        vertical-align: middle;\n",
       "    }\n",
       "\n",
       "    .dataframe tbody tr th {\n",
       "        vertical-align: top;\n",
       "    }\n",
       "\n",
       "    .dataframe thead th {\n",
       "        text-align: right;\n",
       "    }\n",
       "</style>\n",
       "<table border=\"1\" class=\"dataframe\">\n",
       "  <thead>\n",
       "    <tr style=\"text-align: right;\">\n",
       "      <th></th>\n",
       "      <th>comment</th>\n",
       "      <th>target</th>\n",
       "    </tr>\n",
       "    <tr>\n",
       "      <th>rev_id</th>\n",
       "      <th></th>\n",
       "      <th></th>\n",
       "    </tr>\n",
       "  </thead>\n",
       "  <tbody>\n",
       "    <tr>\n",
       "      <th>37675</th>\n",
       "      <td>`-NEWLINE_TOKENThis is not ``creative``.  Thos...</td>\n",
       "      <td>0</td>\n",
       "    </tr>\n",
       "    <tr>\n",
       "      <th>44816</th>\n",
       "      <td>`NEWLINE_TOKENNEWLINE_TOKEN:: the term ``stand...</td>\n",
       "      <td>0</td>\n",
       "    </tr>\n",
       "    <tr>\n",
       "      <th>49851</th>\n",
       "      <td>NEWLINE_TOKENNEWLINE_TOKENTrue or false, the s...</td>\n",
       "      <td>0</td>\n",
       "    </tr>\n",
       "    <tr>\n",
       "      <th>89320</th>\n",
       "      <td>Next, maybe you could work on being less cond...</td>\n",
       "      <td>0</td>\n",
       "    </tr>\n",
       "    <tr>\n",
       "      <th>93890</th>\n",
       "      <td>This page will need disambiguation.</td>\n",
       "      <td>0</td>\n",
       "    </tr>\n",
       "  </tbody>\n",
       "</table>\n",
       "</div>"
      ],
      "text/plain": [
       "                                                  comment  target\n",
       "rev_id                                                           \n",
       "37675   `-NEWLINE_TOKENThis is not ``creative``.  Thos...       0\n",
       "44816   `NEWLINE_TOKENNEWLINE_TOKEN:: the term ``stand...       0\n",
       "49851   NEWLINE_TOKENNEWLINE_TOKENTrue or false, the s...       0\n",
       "89320    Next, maybe you could work on being less cond...       0\n",
       "93890                This page will need disambiguation.        0"
      ]
     },
     "execution_count": 5,
     "metadata": {},
     "output_type": "execute_result"
    }
   ],
   "source": [
    "df.head()"
   ]
  },
  {
   "cell_type": "code",
   "execution_count": 40,
   "id": "5b4aa3c6-95be-4565-947d-d110a57264f8",
   "metadata": {},
   "outputs": [],
   "source": [
    "def split_data(data, pct_positive, test_size=None, train_size=None, random_state=None):\n",
    "    \n",
    "    if test_size:\n",
    "        num_test_samples = int(test_size)\n",
    "    else:\n",
    "        num_test_samples = int(0.3 * data.shape[0])\n",
    "        \n",
    "    df_test = data.sample(num_test_samples, random_state=random_state)\n",
    "    X_test = df_test['comment']\n",
    "    y_test = df_test['target']\n",
    "    \n",
    "    df_train = data.drop(df_test.index)\n",
    "    df_train_pos = df_train[df_train['target'] == 1]\n",
    "    df_train_neg = df_train[df_train['target'] == 0]\n",
    "    \n",
    "    max_train_size = int(df_train_pos.shape[0] / pct_positive)\n",
    "    \n",
    "    if not train_size:\n",
    "        train_size = max_train_size\n",
    "    elif train_size > max_train_size:\n",
    "        warnings.warn(f'train_size of {train_size} exceeds the amount of training data available for the given parameters. Resetting train size to {max_train_size}')\n",
    "        train_size = max_train_size\n",
    "    else:\n",
    "        train_size = int(train_size)\n",
    "        \n",
    "    num_pos_samples = int(pct_positive * train_size)\n",
    "    num_neg_samples = train_size - num_pos_samples\n",
    "    \n",
    "    df_train = pd.concat([\n",
    "        df_train_pos.sample(num_pos_samples, random_state=random_state),\n",
    "        df_train_neg.sample(num_neg_samples)]).sample(\n",
    "        frac=1, rnadom_state=random_state)\n",
    "    \n",
    "    X_train = df_train['comment']\n",
    "    y_train = df_train['target']\n",
    "    \n",
    "    return (X_train, X_test, y_train, y_test)\n",
    "    \n",
    "    \n",
    "    \n",
    "    "
   ]
  },
  {
   "cell_type": "code",
   "execution_count": 6,
   "id": "d48b023f-1499-4e46-8ad6-463cd713c0aa",
   "metadata": {},
   "outputs": [],
   "source": [
    "X_train, X_test, y_train, y_test = split_data(df, 0.5, 5000, 10000)"
   ]
  },
  {
   "cell_type": "code",
   "execution_count": 8,
   "id": "8e3a5b14-eea7-4319-af7a-5186076c7c9a",
   "metadata": {},
   "outputs": [
    {
     "data": {
      "text/plain": [
       "0    0.5\n",
       "1    0.5\n",
       "Name: target, dtype: float64"
      ]
     },
     "execution_count": 8,
     "metadata": {},
     "output_type": "execute_result"
    }
   ],
   "source": [
    "y_train.value_counts(normalize=True)"
   ]
  },
  {
   "cell_type": "code",
   "execution_count": 6,
   "id": "802068e0-67a0-4b18-8fc8-608c9bc98cb3",
   "metadata": {},
   "outputs": [
    {
     "data": {
      "text/plain": [
       "13.0"
      ]
     },
     "execution_count": 6,
     "metadata": {},
     "output_type": "execute_result"
    }
   ],
   "source": [
    "np.ceil(12.334)"
   ]
  },
  {
   "cell_type": "code",
   "execution_count": 9,
   "id": "cce9b696-f5d6-4ce0-8092-a141b5c01d61",
   "metadata": {},
   "outputs": [],
   "source": [
    "from sklearn.model_selection import train_test_split\n",
    "X = df['comment']\n",
    "y = df['target']\n",
    "X_train, X_test, y_train, y_test = train_test_split(X, y)"
   ]
  },
  {
   "cell_type": "code",
   "execution_count": 11,
   "id": "831530e2-10c2-42e8-a7a3-ddae8b790d55",
   "metadata": {},
   "outputs": [
    {
     "data": {
      "text/plain": [
       "rev_id\n",
       "315199003    0\n",
       "42332429     1\n",
       "68812825     0\n",
       "312843300    0\n",
       "221002603    0\n",
       "            ..\n",
       "56258388     0\n",
       "374547245    0\n",
       "556305974    0\n",
       "142760283    0\n",
       "312866440    0\n",
       "Name: target, Length: 86898, dtype: int32"
      ]
     },
     "execution_count": 11,
     "metadata": {},
     "output_type": "execute_result"
    }
   ],
   "source": []
  },
  {
   "cell_type": "code",
   "execution_count": 11,
   "id": "edb25b34-8336-4699-998e-edabe2d013aa",
   "metadata": {},
   "outputs": [],
   "source": [
    "def merge_with_target(df_comments, df_annotations, target_col_name, threshold=0.5):\n",
    "    target = (df_annotations.groupby('rev_id')[target_col_name].mean() >= threshold).astype(int).rename('target')\n",
    "    return df_comments[['rev_id', 'comment']].merge(target, left_on='rev_id', right_index=True)"
   ]
  },
  {
   "cell_type": "code",
   "execution_count": 12,
   "id": "224cad4f-ff2d-4349-bc26-71ae417ffe7d",
   "metadata": {},
   "outputs": [],
   "source": [
    "df = merge_with_target(df_comments, df_scores, 'aggression')"
   ]
  },
  {
   "cell_type": "code",
   "execution_count": 9,
   "id": "7a69d2bd-7467-4290-931e-bd6f87f22862",
   "metadata": {},
   "outputs": [
    {
     "data": {
      "text/html": [
       "<div>\n",
       "<style scoped>\n",
       "    .dataframe tbody tr th:only-of-type {\n",
       "        vertical-align: middle;\n",
       "    }\n",
       "\n",
       "    .dataframe tbody tr th {\n",
       "        vertical-align: top;\n",
       "    }\n",
       "\n",
       "    .dataframe thead th {\n",
       "        text-align: right;\n",
       "    }\n",
       "</style>\n",
       "<table border=\"1\" class=\"dataframe\">\n",
       "  <thead>\n",
       "    <tr style=\"text-align: right;\">\n",
       "      <th></th>\n",
       "      <th>rev_id</th>\n",
       "      <th>comment</th>\n",
       "      <th>target</th>\n",
       "    </tr>\n",
       "  </thead>\n",
       "  <tbody>\n",
       "    <tr>\n",
       "      <th>0</th>\n",
       "      <td>37675</td>\n",
       "      <td>`-NEWLINE_TOKENThis is not ``creative``.  Thos...</td>\n",
       "      <td>0</td>\n",
       "    </tr>\n",
       "    <tr>\n",
       "      <th>1</th>\n",
       "      <td>44816</td>\n",
       "      <td>`NEWLINE_TOKENNEWLINE_TOKEN:: the term ``stand...</td>\n",
       "      <td>0</td>\n",
       "    </tr>\n",
       "    <tr>\n",
       "      <th>2</th>\n",
       "      <td>49851</td>\n",
       "      <td>NEWLINE_TOKENNEWLINE_TOKENTrue or false, the s...</td>\n",
       "      <td>0</td>\n",
       "    </tr>\n",
       "    <tr>\n",
       "      <th>3</th>\n",
       "      <td>89320</td>\n",
       "      <td>Next, maybe you could work on being less cond...</td>\n",
       "      <td>0</td>\n",
       "    </tr>\n",
       "    <tr>\n",
       "      <th>4</th>\n",
       "      <td>93890</td>\n",
       "      <td>This page will need disambiguation.</td>\n",
       "      <td>0</td>\n",
       "    </tr>\n",
       "  </tbody>\n",
       "</table>\n",
       "</div>"
      ],
      "text/plain": [
       "   rev_id                                            comment  target\n",
       "0   37675  `-NEWLINE_TOKENThis is not ``creative``.  Thos...       0\n",
       "1   44816  `NEWLINE_TOKENNEWLINE_TOKEN:: the term ``stand...       0\n",
       "2   49851  NEWLINE_TOKENNEWLINE_TOKENTrue or false, the s...       0\n",
       "3   89320   Next, maybe you could work on being less cond...       0\n",
       "4   93890               This page will need disambiguation.        0"
      ]
     },
     "execution_count": 9,
     "metadata": {},
     "output_type": "execute_result"
    }
   ],
   "source": [
    "df.head()"
   ]
  },
  {
   "cell_type": "code",
   "execution_count": 14,
   "id": "20c24e02-6f69-4050-b14c-591a4d76cb3b",
   "metadata": {},
   "outputs": [
    {
     "data": {
      "text/plain": [
       "'Not here'"
      ]
     },
     "execution_count": 14,
     "metadata": {},
     "output_type": "execute_result"
    }
   ],
   "source": [
    "kwargs = {'arg1': 656, 'arg2': 'Hi there'}\n",
    "kwargs.get('arg3', 'Not here')"
   ]
  },
  {
   "cell_type": "code",
   "execution_count": 15,
   "id": "56795c8e-0dda-4c29-bc83-14801e42d9e3",
   "metadata": {},
   "outputs": [
    {
     "data": {
      "text/plain": [
       "True"
      ]
     },
     "execution_count": 15,
     "metadata": {},
     "output_type": "execute_result"
    }
   ],
   "source": [
    "'arg1' in kwargs"
   ]
  },
  {
   "cell_type": "code",
   "execution_count": 10,
   "id": "c8999aba-78ef-4e23-bae6-abd139df3638",
   "metadata": {},
   "outputs": [
    {
     "data": {
      "text/html": [
       "<div>\n",
       "<style scoped>\n",
       "    .dataframe tbody tr th:only-of-type {\n",
       "        vertical-align: middle;\n",
       "    }\n",
       "\n",
       "    .dataframe tbody tr th {\n",
       "        vertical-align: top;\n",
       "    }\n",
       "\n",
       "    .dataframe thead th {\n",
       "        text-align: right;\n",
       "    }\n",
       "</style>\n",
       "<table border=\"1\" class=\"dataframe\">\n",
       "  <thead>\n",
       "    <tr style=\"text-align: right;\">\n",
       "      <th></th>\n",
       "      <th>rev_id</th>\n",
       "      <th>comment</th>\n",
       "      <th>target</th>\n",
       "    </tr>\n",
       "  </thead>\n",
       "  <tbody>\n",
       "    <tr>\n",
       "      <th>0</th>\n",
       "      <td>37675</td>\n",
       "      <td>`-NEWLINE_TOKENThis is not ``creative``.  Thos...</td>\n",
       "      <td>0</td>\n",
       "    </tr>\n",
       "    <tr>\n",
       "      <th>1</th>\n",
       "      <td>44816</td>\n",
       "      <td>`NEWLINE_TOKENNEWLINE_TOKEN:: the term ``stand...</td>\n",
       "      <td>0</td>\n",
       "    </tr>\n",
       "    <tr>\n",
       "      <th>4</th>\n",
       "      <td>93890</td>\n",
       "      <td>This page will need disambiguation.</td>\n",
       "      <td>0</td>\n",
       "    </tr>\n",
       "    <tr>\n",
       "      <th>5</th>\n",
       "      <td>102817</td>\n",
       "      <td>NEWLINE_TOKEN-NEWLINE_TOKENNEWLINE_TOKENImport...</td>\n",
       "      <td>0</td>\n",
       "    </tr>\n",
       "    <tr>\n",
       "      <th>6</th>\n",
       "      <td>103624</td>\n",
       "      <td>I removed the following:NEWLINE_TOKENNEWLINE_T...</td>\n",
       "      <td>0</td>\n",
       "    </tr>\n",
       "  </tbody>\n",
       "</table>\n",
       "</div>"
      ],
      "text/plain": [
       "   rev_id                                            comment  target\n",
       "0   37675  `-NEWLINE_TOKENThis is not ``creative``.  Thos...       0\n",
       "1   44816  `NEWLINE_TOKENNEWLINE_TOKEN:: the term ``stand...       0\n",
       "4   93890               This page will need disambiguation.        0\n",
       "5  102817  NEWLINE_TOKEN-NEWLINE_TOKENNEWLINE_TOKENImport...       0\n",
       "6  103624  I removed the following:NEWLINE_TOKENNEWLINE_T...       0"
      ]
     },
     "execution_count": 10,
     "metadata": {},
     "output_type": "execute_result"
    }
   ],
   "source": [
    "df.drop([2, 3]).head()"
   ]
  },
  {
   "cell_type": "code",
   "execution_count": 19,
   "id": "5f4aec1a-d530-4ed8-99a6-7b42755588f7",
   "metadata": {},
   "outputs": [
    {
     "name": "stdout",
     "output_type": "stream",
     "text": [
      "84003: NEWLINE_TOKENNEWLINE_TOKENI suppose, you probably spent all your money on Star wars books so had no money for condoms. It all makes sense now, your not stupid just ignorantly poor.\n",
      "\n",
      "82191: NEWLINE_TOKENNEWLINE_TOKEN== See you ==NEWLINE_TOKENNEWLINE_TOKENLousy cunt\n",
      "\n",
      "28832: NEWLINE_TOKENNEWLINE_TOKEN== A little song ==NEWLINE_TOKENNEWLINE_TOKENFucky fucky fucky fuckNEWLINE_TOKENFucky fucky fucky fuckNEWLINE_TOKENFucky fucky fucky fucky fucky fuckNEWLINE_TOKENFucky fucky fucky fuckNEWLINE_TOKENFucky fucky fucky fuckNEWLINE_TOKENFucky fucky fucky fucky fucky fuckNEWLINE_TOKENFuck Fuck Fuck Fuck Fuck Fuck Fuck Fuck Fuck FuckNEWLINE_TOKENFuck Fuck Fuck Fuck Fuck Fuck Fuck Fuck Fuck FuckNEWLINE_TOKENFucky fucky fucky fuckNEWLINE_TOKENFucky fucky fucky fuckNEWLINE_TOKENFucky fucky fucky fucky fucky fuckNEWLINE_TOKENFucky fucky fucky fuckNEWLINE_TOKENFucky fucky fucky fuckNEWLINE_TOKENFucky fucky fucky fucky fucky fuck\n",
      "\n",
      "45163: NEWLINE_TOKENNEWLINE_TOKENdo you arrogant bastards have nothing better do than bitch about who edits what. what the fuck you probably live in your parents basement and bitch bout what goes on in a insignificant websiTe. this is a load of bullshit why don't you get a life and find something better to do you worthless piece of shit\n",
      "\n",
      "2896: NEWLINE_TOKENNEWLINE_TOKEN== Homosexuality ==NEWLINE_TOKENNEWLINE_TOKENTell me, what is so special about homosexuality over zoophilia that exempts it from being identified as a paraphilia? If homosexuality is a sexual orientation, then surely all paraphilias based on the characteristics of the attractile are sexual orientations?\n",
      "\n",
      "90321: NEWLINE_TOKENNEWLINE_TOKENNEWLINE_TOKENNEWLINE_TOKEN== NETWORK FORENSICS ==NEWLINE_TOKENNEWLINE_TOKENYou might want to wonder about someone who owns a security company and harrasign them on wikipedia nad what they could be doing monitoring you on wikipedia.  You are really stupid.  \n",
      "\n",
      "1635: NEWLINE_TOKENNEWLINE_TOKEN::Above isn't replying to you, it's to Slimvirgin. I have no more patience for keep up with your gibberish, Mr Tan  22:44, 2005 Jun 19 (UTC)\n",
      "\n",
      "1607: NEWLINE_TOKENNEWLINE_TOKENYour mama is clearly being used as advertisment, you cock sucker.  \n",
      "\n",
      "111101: NEWLINE_TOKENNEWLINE_TOKEN== You are the troll, anti-Semite. ==NEWLINE_TOKENNEWLINE_TOKENAll anti-Semites should die.\n",
      "\n",
      "2898: You're not very bright, are you NEWLINE_TOKENNEWLINE_TOKEN\n",
      "\n"
     ]
    }
   ],
   "source": [
    "for ix, row in df[df['target'] == 1].sample(10).iterrows():\n",
    "    print(f'{ix}: {row[\"comment\"]}')\n",
    "    print()"
   ]
  },
  {
   "cell_type": "code",
   "execution_count": 16,
   "id": "c21ad07e-cbe4-4646-a8a5-f94a99c5b621",
   "metadata": {},
   "outputs": [
    {
     "data": {
      "text/plain": [
       "115864"
      ]
     },
     "execution_count": 16,
     "metadata": {},
     "output_type": "execute_result"
    }
   ],
   "source": [
    "df_comments.shape[0]"
   ]
  }
 ],
 "metadata": {
  "kernelspec": {
   "display_name": "Python 3",
   "language": "python",
   "name": "python3"
  },
  "language_info": {
   "codemirror_mode": {
    "name": "ipython",
    "version": 3
   },
   "file_extension": ".py",
   "mimetype": "text/x-python",
   "name": "python",
   "nbconvert_exporter": "python",
   "pygments_lexer": "ipython3",
   "version": "3.8.8"
  }
 },
 "nbformat": 4,
 "nbformat_minor": 5
}
