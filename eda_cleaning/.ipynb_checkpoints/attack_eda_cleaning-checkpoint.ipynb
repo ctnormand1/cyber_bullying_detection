{
 "cells": [
  {
   "cell_type": "markdown",
   "id": "e4489e1c-7fe1-44a4-af44-12b1afcc55ea",
   "metadata": {},
   "source": [
    "# EDA and Cleaning for Attack Dataset"
   ]
  },
  {
   "cell_type": "code",
   "execution_count": 1,
   "id": "2de8567e-16c7-4205-870d-d0d984f4c214",
   "metadata": {},
   "outputs": [],
   "source": [
    "# imports\n",
    "import pandas as pd\n",
    "import matplotlib.pyplot as plt\n",
    "from eda_functions import merge_with_target, split_data"
   ]
  },
  {
   "cell_type": "markdown",
   "id": "4ac848e1-4eec-4152-90af-29c8b836e152",
   "metadata": {},
   "source": [
    "## Load data"
   ]
  },
  {
   "cell_type": "code",
   "execution_count": 2,
   "id": "796bce97-ff47-4b04-ab7d-6410bc895bd4",
   "metadata": {},
   "outputs": [
    {
     "data": {
      "text/html": [
       "<div>\n",
       "<style scoped>\n",
       "    .dataframe tbody tr th:only-of-type {\n",
       "        vertical-align: middle;\n",
       "    }\n",
       "\n",
       "    .dataframe tbody tr th {\n",
       "        vertical-align: top;\n",
       "    }\n",
       "\n",
       "    .dataframe thead th {\n",
       "        text-align: right;\n",
       "    }\n",
       "</style>\n",
       "<table border=\"1\" class=\"dataframe\">\n",
       "  <thead>\n",
       "    <tr style=\"text-align: right;\">\n",
       "      <th></th>\n",
       "      <th>rev_id</th>\n",
       "      <th>comment</th>\n",
       "      <th>year</th>\n",
       "      <th>logged_in</th>\n",
       "      <th>ns</th>\n",
       "      <th>sample</th>\n",
       "      <th>split</th>\n",
       "    </tr>\n",
       "  </thead>\n",
       "  <tbody>\n",
       "    <tr>\n",
       "      <th>0</th>\n",
       "      <td>37675</td>\n",
       "      <td>`-NEWLINE_TOKENThis is not ``creative``.  Thos...</td>\n",
       "      <td>2002</td>\n",
       "      <td>False</td>\n",
       "      <td>article</td>\n",
       "      <td>random</td>\n",
       "      <td>train</td>\n",
       "    </tr>\n",
       "    <tr>\n",
       "      <th>1</th>\n",
       "      <td>44816</td>\n",
       "      <td>`NEWLINE_TOKENNEWLINE_TOKEN:: the term ``stand...</td>\n",
       "      <td>2002</td>\n",
       "      <td>False</td>\n",
       "      <td>article</td>\n",
       "      <td>random</td>\n",
       "      <td>train</td>\n",
       "    </tr>\n",
       "    <tr>\n",
       "      <th>2</th>\n",
       "      <td>49851</td>\n",
       "      <td>NEWLINE_TOKENNEWLINE_TOKENTrue or false, the s...</td>\n",
       "      <td>2002</td>\n",
       "      <td>False</td>\n",
       "      <td>article</td>\n",
       "      <td>random</td>\n",
       "      <td>train</td>\n",
       "    </tr>\n",
       "    <tr>\n",
       "      <th>3</th>\n",
       "      <td>89320</td>\n",
       "      <td>Next, maybe you could work on being less cond...</td>\n",
       "      <td>2002</td>\n",
       "      <td>True</td>\n",
       "      <td>article</td>\n",
       "      <td>random</td>\n",
       "      <td>dev</td>\n",
       "    </tr>\n",
       "    <tr>\n",
       "      <th>4</th>\n",
       "      <td>93890</td>\n",
       "      <td>This page will need disambiguation.</td>\n",
       "      <td>2002</td>\n",
       "      <td>True</td>\n",
       "      <td>article</td>\n",
       "      <td>random</td>\n",
       "      <td>train</td>\n",
       "    </tr>\n",
       "  </tbody>\n",
       "</table>\n",
       "</div>"
      ],
      "text/plain": [
       "   rev_id                                            comment  year  logged_in  \\\n",
       "0   37675  `-NEWLINE_TOKENThis is not ``creative``.  Thos...  2002      False   \n",
       "1   44816  `NEWLINE_TOKENNEWLINE_TOKEN:: the term ``stand...  2002      False   \n",
       "2   49851  NEWLINE_TOKENNEWLINE_TOKENTrue or false, the s...  2002      False   \n",
       "3   89320   Next, maybe you could work on being less cond...  2002       True   \n",
       "4   93890               This page will need disambiguation.   2002       True   \n",
       "\n",
       "        ns  sample  split  \n",
       "0  article  random  train  \n",
       "1  article  random  train  \n",
       "2  article  random  train  \n",
       "3  article  random    dev  \n",
       "4  article  random  train  "
      ]
     },
     "execution_count": 2,
     "metadata": {},
     "output_type": "execute_result"
    }
   ],
   "source": [
    "# *_annotated_comments dataframe\n",
    "df_comments = pd.read_csv('../data/attack_annotated_comments.tsv', sep='\\t')\n",
    "df_comments.head()"
   ]
  },
  {
   "cell_type": "code",
   "execution_count": 3,
   "id": "af4f128b-07d6-433b-9594-9bf41c2cd8c6",
   "metadata": {},
   "outputs": [
    {
     "data": {
      "text/html": [
       "<div>\n",
       "<style scoped>\n",
       "    .dataframe tbody tr th:only-of-type {\n",
       "        vertical-align: middle;\n",
       "    }\n",
       "\n",
       "    .dataframe tbody tr th {\n",
       "        vertical-align: top;\n",
       "    }\n",
       "\n",
       "    .dataframe thead th {\n",
       "        text-align: right;\n",
       "    }\n",
       "</style>\n",
       "<table border=\"1\" class=\"dataframe\">\n",
       "  <thead>\n",
       "    <tr style=\"text-align: right;\">\n",
       "      <th></th>\n",
       "      <th>rev_id</th>\n",
       "      <th>worker_id</th>\n",
       "      <th>quoting_attack</th>\n",
       "      <th>recipient_attack</th>\n",
       "      <th>third_party_attack</th>\n",
       "      <th>other_attack</th>\n",
       "      <th>attack</th>\n",
       "    </tr>\n",
       "  </thead>\n",
       "  <tbody>\n",
       "    <tr>\n",
       "      <th>0</th>\n",
       "      <td>37675</td>\n",
       "      <td>1362</td>\n",
       "      <td>0.0</td>\n",
       "      <td>0.0</td>\n",
       "      <td>0.0</td>\n",
       "      <td>0.0</td>\n",
       "      <td>0.0</td>\n",
       "    </tr>\n",
       "    <tr>\n",
       "      <th>1</th>\n",
       "      <td>37675</td>\n",
       "      <td>2408</td>\n",
       "      <td>0.0</td>\n",
       "      <td>0.0</td>\n",
       "      <td>0.0</td>\n",
       "      <td>0.0</td>\n",
       "      <td>0.0</td>\n",
       "    </tr>\n",
       "    <tr>\n",
       "      <th>2</th>\n",
       "      <td>37675</td>\n",
       "      <td>1493</td>\n",
       "      <td>0.0</td>\n",
       "      <td>0.0</td>\n",
       "      <td>0.0</td>\n",
       "      <td>0.0</td>\n",
       "      <td>0.0</td>\n",
       "    </tr>\n",
       "    <tr>\n",
       "      <th>3</th>\n",
       "      <td>37675</td>\n",
       "      <td>1439</td>\n",
       "      <td>0.0</td>\n",
       "      <td>0.0</td>\n",
       "      <td>0.0</td>\n",
       "      <td>0.0</td>\n",
       "      <td>0.0</td>\n",
       "    </tr>\n",
       "    <tr>\n",
       "      <th>4</th>\n",
       "      <td>37675</td>\n",
       "      <td>170</td>\n",
       "      <td>0.0</td>\n",
       "      <td>0.0</td>\n",
       "      <td>0.0</td>\n",
       "      <td>0.0</td>\n",
       "      <td>0.0</td>\n",
       "    </tr>\n",
       "  </tbody>\n",
       "</table>\n",
       "</div>"
      ],
      "text/plain": [
       "   rev_id  worker_id  quoting_attack  recipient_attack  third_party_attack  \\\n",
       "0   37675       1362             0.0               0.0                 0.0   \n",
       "1   37675       2408             0.0               0.0                 0.0   \n",
       "2   37675       1493             0.0               0.0                 0.0   \n",
       "3   37675       1439             0.0               0.0                 0.0   \n",
       "4   37675        170             0.0               0.0                 0.0   \n",
       "\n",
       "   other_attack  attack  \n",
       "0           0.0     0.0  \n",
       "1           0.0     0.0  \n",
       "2           0.0     0.0  \n",
       "3           0.0     0.0  \n",
       "4           0.0     0.0  "
      ]
     },
     "execution_count": 3,
     "metadata": {},
     "output_type": "execute_result"
    }
   ],
   "source": [
    "# *_annotations dataframe\n",
    "df_annotations = pd.read_csv('../data/attack_annotations.tsv', sep='\\t')\n",
    "df_annotations.head()"
   ]
  },
  {
   "cell_type": "markdown",
   "id": "f357e8a2-4b4f-4418-984e-e0e8936f0311",
   "metadata": {
    "tags": []
   },
   "source": [
    "## Preliminary exploration"
   ]
  },
  {
   "cell_type": "markdown",
   "id": "949d5945-64e9-4e1e-8d49-8bd70cb56a12",
   "metadata": {},
   "source": [
    "### How many reviewers looked at each comment?\n",
    "<br>WMF documentation said 10 reviewers per comment, but do we see this in the data?"
   ]
  },
  {
   "cell_type": "code",
   "execution_count": 4,
   "id": "e5ce91c1-bee8-4191-99ac-41994e13162f",
   "metadata": {},
   "outputs": [
    {
     "data": {
      "image/png": "[encoded data removed]",
      "text/plain": [
       "<Figure size 360x288 with 1 Axes>"
      ]
     },
     "metadata": {
      "needs_background": "light"
     },
     "output_type": "display_data"
    }
   ],
   "source": [
    "review_counts = df_annotations.groupby('rev_id')['attack'].count()\n",
    "fig, ax = plt.subplots(1, 1, figsize=(5, 4))\n",
    "ax.hist(review_counts, bins=25)\n",
    "ax.text(x=1.02, y=0, transform=ax.transAxes,\n",
    "        s=review_counts.describe().astype(int).to_string(),\n",
    "        fontsize=12);\n",
    "ax.set_title('Number of Reviewers per Comment');"
   ]
  },
  {
   "cell_type": "markdown",
   "id": "c32a900b-d68f-4eaa-9d85-bde0bf29fb12",
   "metadata": {},
   "source": [
    "For the most part, each comment has 10 annotations, but there are a significant number of comments with only 8 or 9 annotations. There are also some comments with many more annotations (up to 46). \n",
    "\n",
    "If we had any concerns about this, it would be for annotation counts on the lower end of the spectrum (8-9). However, we feel that 8 annotations is still plenty to make a robust determination of whether a comment contains an attack.\n",
    "\n",
    "We will not attempt to standardize the number of annotations per comment."
   ]
  },
  {
   "cell_type": "markdown",
   "id": "3a902e96-d048-4aee-b419-78da4cbb3a3e",
   "metadata": {},
   "source": [
    "### Are there repeated comments?\n",
    "We'd like to see if there are any duplicated comments in the dataset. If so, what are some characteristics of those comments?"
   ]
  },
  {
   "cell_type": "code",
   "execution_count": 5,
   "id": "20b32ba3-b550-49dc-bc80-adfd6e4a7847",
   "metadata": {},
   "outputs": [
    {
     "name": "stdout",
     "output_type": "stream",
     "text": [
      "10 occurrences of:\n",
      "`NEWLINE_TOKEN==The Graceful Slick....==NEWLINE_TOKENIs non other than an ungraceful dick!  `\n",
      "\n",
      "7 occurrences of:\n",
      "Thank you for experimenting with  Wikipedia. Your test worked, and it has been reverted or removed. Please use the sandbox for any other tests you may want to do. Take a look at the welcome page to learn more about contributing to our encyclopedia.  ...\n",
      "\n",
      "6 occurrences of:\n",
      "`NEWLINE_TOKEN{| width=``100%`` style=``background:transparent``NEWLINE_TOKEN{| width=``100%`` style=``background-color:#F5FFFA``NEWLINE_TOKEN|style=``width: 50%; border:1px solid #084080; background-color:#F5FFFA; vertical-align:top``|NEWLINE_TOKEN{...\n",
      "\n",
      "5 occurrences of:\n",
      "NEWLINE_TOKEN* Keep.  \n",
      "\n",
      "5 occurrences of:\n",
      "NEWLINE_TOKENWelcome!NEWLINE_TOKENNEWLINE_TOKENHello, , and welcome to Wikipedia! Thank you for your contributions. I hope you like the place and decide to stay. Here are a few good links for newcomers:NEWLINE_TOKEN*The five pillars of WikipediaNEWLI...\n",
      "\n",
      "5 occurrences of:\n",
      "`  —Preceding unsigned comment added by    `\n",
      "\n",
      "4 occurrences of:\n",
      " —The preceding unsigned comment was added by   •   (UTC)\n",
      "\n",
      "4 occurrences of:\n",
      "`WelcomeNEWLINE_TOKENNEWLINE_TOKENHello, and welcome to Wikipedia! Thank you for . I hope you like the place and decide to stay. Here are some pages you might like to see:NEWLINE_TOKENNEWLINE_TOKEN* The five pillars of WikipediaNEWLINE_TOKEN* How to ...\n",
      "\n",
      "4 occurrences of:\n",
      "NEWLINE_TOKENNEWLINE_TOKEN== 26 July 17:03 UTC eh? ==NEWLINE_TOKENNEWLINE_TOKENThere once was a 'pedian from doylestownNaN But it was easy to enquire When s-protection would expire   And quietly begin a count downNEWLINE_TOKEN RELEASED UNDER DA CREAT...\n",
      "\n",
      "4 occurrences of:\n",
      "NEWLINE_TOKENNEWLINE_TOKEN==Please mediate==NEWLINE_TOKENHello. The Kofun Period of Japan has received destruction. I need your mediation. Could you help?   \n",
      "\n"
     ]
    }
   ],
   "source": [
    "for comment, count in df_comments['comment'].value_counts()[:10].iteritems():\n",
    "    print(f'{count} occurrences of:')\n",
    "    print(comment[:250] + '...' if len(comment) > 250 else comment)\n",
    "    print()"
   ]
  },
  {
   "cell_type": "markdown",
   "id": "48f176e8-8a25-4672-ae24-c142eea91225",
   "metadata": {},
   "source": [
    "**Yes, there are repeated comments,** and with the exception of the \"Grateful Slick\" example, they seem to be automated comments, or maybe even comments that were copy/pasted by wikipedia moderators. It's possible that we will want to remove these repeated comments, because they do not represent comments that were posted in a typical fashion by real people."
   ]
  },
  {
   "cell_type": "markdown",
   "id": "e875f3af-ad64-4d16-9df8-eb5edbaf8668",
   "metadata": {},
   "source": [
    "## Create target and merge into a single dataframe\n",
    "Target column will be binary (1: comment contains an attack, 0: comment doesn't contain an attack). \n",
    "<br>**50% of reviewers** must label a comment as an attack for it to be categorized as such."
   ]
  },
  {
   "cell_type": "code",
   "execution_count": 6,
   "id": "268652a1-c234-4691-b101-4f3b249af567",
   "metadata": {},
   "outputs": [],
   "source": [
    "df = merge_with_target(\n",
    "    df_comments=df_comments,\n",
    "    df_annotations=df_annotations,\n",
    "    target_col_name='attack',\n",
    "    threshold=0.5)"
   ]
  },
  {
   "cell_type": "code",
   "execution_count": 7,
   "id": "b077282e-c64d-45ee-81af-d42d56aa4833",
   "metadata": {},
   "outputs": [
    {
     "data": {
      "text/html": [
       "<div>\n",
       "<style scoped>\n",
       "    .dataframe tbody tr th:only-of-type {\n",
       "        vertical-align: middle;\n",
       "    }\n",
       "\n",
       "    .dataframe tbody tr th {\n",
       "        vertical-align: top;\n",
       "    }\n",
       "\n",
       "    .dataframe thead th {\n",
       "        text-align: right;\n",
       "    }\n",
       "</style>\n",
       "<table border=\"1\" class=\"dataframe\">\n",
       "  <thead>\n",
       "    <tr style=\"text-align: right;\">\n",
       "      <th></th>\n",
       "      <th>comment</th>\n",
       "      <th>target</th>\n",
       "    </tr>\n",
       "    <tr>\n",
       "      <th>rev_id</th>\n",
       "      <th></th>\n",
       "      <th></th>\n",
       "    </tr>\n",
       "  </thead>\n",
       "  <tbody>\n",
       "    <tr>\n",
       "      <th>37675</th>\n",
       "      <td>`-NEWLINE_TOKENThis is not ``creative``.  Thos...</td>\n",
       "      <td>0</td>\n",
       "    </tr>\n",
       "    <tr>\n",
       "      <th>44816</th>\n",
       "      <td>`NEWLINE_TOKENNEWLINE_TOKEN:: the term ``stand...</td>\n",
       "      <td>0</td>\n",
       "    </tr>\n",
       "    <tr>\n",
       "      <th>49851</th>\n",
       "      <td>NEWLINE_TOKENNEWLINE_TOKENTrue or false, the s...</td>\n",
       "      <td>0</td>\n",
       "    </tr>\n",
       "    <tr>\n",
       "      <th>89320</th>\n",
       "      <td>Next, maybe you could work on being less cond...</td>\n",
       "      <td>0</td>\n",
       "    </tr>\n",
       "    <tr>\n",
       "      <th>93890</th>\n",
       "      <td>This page will need disambiguation.</td>\n",
       "      <td>0</td>\n",
       "    </tr>\n",
       "  </tbody>\n",
       "</table>\n",
       "</div>"
      ],
      "text/plain": [
       "                                                  comment  target\n",
       "rev_id                                                           \n",
       "37675   `-NEWLINE_TOKENThis is not ``creative``.  Thos...       0\n",
       "44816   `NEWLINE_TOKENNEWLINE_TOKEN:: the term ``stand...       0\n",
       "49851   NEWLINE_TOKENNEWLINE_TOKENTrue or false, the s...       0\n",
       "89320    Next, maybe you could work on being less cond...       0\n",
       "93890                This page will need disambiguation.        0"
      ]
     },
     "execution_count": 7,
     "metadata": {},
     "output_type": "execute_result"
    }
   ],
   "source": [
    "df.head()"
   ]
  },
  {
   "cell_type": "markdown",
   "id": "7c520ee2-0698-4e25-bfb9-228ad530a946",
   "metadata": {},
   "source": [
    "## Cleaning"
   ]
  },
  {
   "cell_type": "code",
   "execution_count": 8,
   "id": "1f707841-eecb-4084-b0b9-5ef8b9699c61",
   "metadata": {},
   "outputs": [],
   "source": [
    "# dataset documentation states that \\t and \\n were replaced by \n",
    "# 'NEWLINE_TOKEN' and 'TAB_TOKEN'. We'll just replace those with\n",
    "# a space.\n",
    "df['comment'] = df['comment'].str.replace(\n",
    "    'NEWLINE_TOKEN', ' ').str.replace(\n",
    "    'TAB_TOKEN', ' ')\n",
    "\n",
    "# only keep alphanumeric characters and whitespace\n",
    "df['comment'] = df['comment'].apply(lambda x: ''.join(\n",
    "    char for char in x if (char.isalnum() or char == ' ')))"
   ]
  },
  {
   "cell_type": "code",
   "execution_count": 9,
   "id": "8c0167fb-1556-434a-87c3-fe67472cb7f3",
   "metadata": {},
   "outputs": [
    {
     "name": "stdout",
     "output_type": "stream",
     "text": [
      "Dropping 301/115864 rows.\n"
     ]
    }
   ],
   "source": [
    "# DROP comments that appear more than 2 times.\n",
    "# As we determined earlier, repeated comments are mostly automated posts\n",
    "# and post from moderators.\n",
    "\n",
    "df['count'] = (df.merge(df.groupby('comment')['target'].count().rename('count'),\n",
    "         left_on='comment', \n",
    "         right_index=True)['count'])\n",
    "\n",
    "print(f'Dropping {(df[\"count\"] > 2).sum()}/{df.shape[0]} rows.')\n",
    "\n",
    "df = df[df['count'] <= 2]\n",
    "df.drop(columns='count', inplace=True)"
   ]
  },
  {
   "cell_type": "markdown",
   "id": "6f4ed2a3-5fe4-41b4-afd1-d97e931a9ba9",
   "metadata": {},
   "source": [
    "## Export Clean Data"
   ]
  },
  {
   "cell_type": "code",
   "execution_count": 10,
   "id": "60c2c03b-e4ab-4924-b679-0bea3bf5ed96",
   "metadata": {},
   "outputs": [],
   "source": [
    "df.to_csv('../data/attack_clean.csv')"
   ]
  }
 ],
 "metadata": {
  "kernelspec": {
   "display_name": "Python 3",
   "language": "python",
   "name": "python3"
  },
  "language_info": {
   "codemirror_mode": {
    "name": "ipython",
    "version": 3
   },
   "file_extension": ".py",
   "mimetype": "text/x-python",
   "name": "python",
   "nbconvert_exporter": "python",
   "pygments_lexer": "ipython3",
   "version": "3.8.8"
  }
 },
 "nbformat": 4,
 "nbformat_minor": 5
}
