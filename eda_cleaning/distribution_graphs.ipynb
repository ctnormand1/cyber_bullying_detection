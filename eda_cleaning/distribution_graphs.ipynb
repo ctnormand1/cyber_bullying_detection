{
 "cells": [
  {
   "cell_type": "code",
   "execution_count": 1,
   "id": "5639b852-a6b5-4689-b39e-661d04d91b9a",
   "metadata": {},
   "outputs": [],
   "source": [
    "import pandas as pd\n",
    "import numpy as np\n",
    "import matplotlib.pyplot as plt\n",
    "import seaborn as sns"
   ]
  },
  {
   "cell_type": "code",
   "execution_count": 2,
   "id": "d34ce55c-9156-4d8e-b4d5-d5230ca8775a",
   "metadata": {},
   "outputs": [],
   "source": [
    "# Import the data files\n",
    "\n",
    "attacks = pd.read_csv('../data/attack_clean.csv')\n",
    "aggression = pd.read_csv('../data/aggression_clean_data.csv')\n",
    "toxic = pd.read_csv('../data/toxicity_cleaned.csv')"
   ]
  },
  {
   "cell_type": "code",
   "execution_count": 3,
   "id": "ebf92308-5fe2-4c82-bf53-c02ae8734862",
   "metadata": {},
   "outputs": [],
   "source": [
    "# Rename target values for chart\n",
    "attacks['target'] = attacks['target'].map({0: 'No', 1: 'Yes'})\n",
    "aggression['label'] = aggression['label'].map({0: 'No', 1: 'Yes'})\n",
    "toxic['toxicity'] = toxic['toxicity'].map({0: 'No', 1: 'Yes'})"
   ]
  },
  {
   "cell_type": "code",
   "execution_count": 10,
   "id": "87754d82-536e-44b5-b5ea-aa8bffea2381",
   "metadata": {},
   "outputs": [
    {
     "data": {
      "image/png": "[encoded data removed]",
      "text/plain": [
       "<Figure size 1080x432 with 3 Axes>"
      ]
     },
     "metadata": {
      "needs_background": "light"
     },
     "output_type": "display_data"
    }
   ],
   "source": [
    "fig, axes = plt.subplots(1, 3, figsize = (15, 6), sharex = True, sharey = True)\n",
    "fig.suptitle('Distribution of Target Columns')\n",
    "fig.text(0.5, 0.04, 'Target Columns', ha='center')\n",
    "fig.text(0.04, 0.5, 'Percentage of Dataset', va='center', rotation='vertical')\n",
    "\n",
    "g = attacks['target'].value_counts(normalize=True).plot(kind='bar', rot = 0, label = 'Attacks', color = 'darkblue', ax = axes[0], width = 0.3)\n",
    "axes[0].legend()\n",
    "\n",
    "for p in g.axes.patches:\n",
    "        txt = str((p.get_height() * 100).round(2)) + '%'\n",
    "        txt_x = p.get_x() \n",
    "        txt_y = p.get_height()\n",
    "        g.axes.text(txt_x, txt_y*1.01, txt)\n",
    "\n",
    "g = aggression['label'].value_counts(normalize=True).plot(kind='bar', rot = 0, label = 'Aggression', color = 'royalblue', ax = axes[1], width = 0.3)\n",
    "axes[1].legend()\n",
    "\n",
    "for p in g.axes.patches:\n",
    "        txt = str((p.get_height() * 100).round(2)) + '%'\n",
    "        txt_x = p.get_x() \n",
    "        txt_y = p.get_height()\n",
    "        g.axes.text(txt_x, txt_y*1.01, txt)\n",
    "\n",
    "g = toxic['toxicity'].value_counts(normalize=True).plot(kind='bar', rot = 0, label = 'Toxic', color = 'lightsteelblue', ax = axes[2], width = 0.3)\n",
    "axes[2].legend()\n",
    "\n",
    "for p in g.axes.patches:\n",
    "        txt = str((p.get_height() * 100).round(2)) + '%'\n",
    "        txt_x = p.get_x() \n",
    "        txt_y = p.get_height()\n",
    "        g.axes.text(txt_x, txt_y*1.01, txt)\n",
    "\n",
    "\n",
    "plt.savefig('../st-images/distribution_graph.png');"
   ]
  },
  {
   "cell_type": "code",
   "execution_count": null,
   "id": "d3714e8f-8d89-45c2-a7bf-cea2f6be42fd",
   "metadata": {},
   "outputs": [],
   "source": []
  }
 ],
 "metadata": {
  "kernelspec": {
   "display_name": "Python 3",
   "language": "python",
   "name": "python3"
  },
  "language_info": {
   "codemirror_mode": {
    "name": "ipython",
    "version": 3
   },
   "file_extension": ".py",
   "mimetype": "text/x-python",
   "name": "python",
   "nbconvert_exporter": "python",
   "pygments_lexer": "ipython3",
   "version": "3.8.8"
  }
 },
 "nbformat": 4,
 "nbformat_minor": 5
}
