{
 "cells": [
  {
   "cell_type": "markdown",
   "id": "87b37958",
   "metadata": {},
   "source": [
    "# Model XGBoost - Attack Data"
   ]
  },
  {
   "cell_type": "code",
   "execution_count": 1,
   "id": "9689eb99",
   "metadata": {},
   "outputs": [],
   "source": [
    "#Imports\n",
    "import pandas as pd\n",
    "import numpy as np\n",
    "\n",
    "from eda_functions import split_data\n",
    "\n",
    "from xgboost import XGBClassifier\n",
    "from sklearn.model_selection import GridSearchCV\n",
    "from sklearn.pipeline import Pipeline\n",
    "from sklearn.feature_extraction.text import CountVectorizer, TfidfVectorizer"
   ]
  },
  {
   "cell_type": "code",
   "execution_count": 2,
   "id": "1946f44d",
   "metadata": {},
   "outputs": [
    {
     "data": {
      "text/html": [
       "<div>\n",
       "<style scoped>\n",
       "    .dataframe tbody tr th:only-of-type {\n",
       "        vertical-align: middle;\n",
       "    }\n",
       "\n",
       "    .dataframe tbody tr th {\n",
       "        vertical-align: top;\n",
       "    }\n",
       "\n",
       "    .dataframe thead th {\n",
       "        text-align: right;\n",
       "    }\n",
       "</style>\n",
       "<table border=\"1\" class=\"dataframe\">\n",
       "  <thead>\n",
       "    <tr style=\"text-align: right;\">\n",
       "      <th></th>\n",
       "      <th>rev_id</th>\n",
       "      <th>comment</th>\n",
       "      <th>target</th>\n",
       "    </tr>\n",
       "  </thead>\n",
       "  <tbody>\n",
       "    <tr>\n",
       "      <th>0</th>\n",
       "      <td>37675</td>\n",
       "      <td>This is not creative  Those are the dictionar...</td>\n",
       "      <td>0</td>\n",
       "    </tr>\n",
       "    <tr>\n",
       "      <th>1</th>\n",
       "      <td>44816</td>\n",
       "      <td>the term standard model is itself less NPOV...</td>\n",
       "      <td>0</td>\n",
       "    </tr>\n",
       "    <tr>\n",
       "      <th>2</th>\n",
       "      <td>49851</td>\n",
       "      <td>True or false the situation as of March 2002...</td>\n",
       "      <td>0</td>\n",
       "    </tr>\n",
       "    <tr>\n",
       "      <th>3</th>\n",
       "      <td>89320</td>\n",
       "      <td>Next maybe you could work on being less conde...</td>\n",
       "      <td>0</td>\n",
       "    </tr>\n",
       "    <tr>\n",
       "      <th>4</th>\n",
       "      <td>93890</td>\n",
       "      <td>This page will need disambiguation</td>\n",
       "      <td>0</td>\n",
       "    </tr>\n",
       "  </tbody>\n",
       "</table>\n",
       "</div>"
      ],
      "text/plain": [
       "   rev_id                                            comment  target\n",
       "0   37675   This is not creative  Those are the dictionar...       0\n",
       "1   44816     the term standard model is itself less NPOV...       0\n",
       "2   49851    True or false the situation as of March 2002...       0\n",
       "3   89320   Next maybe you could work on being less conde...       0\n",
       "4   93890                This page will need disambiguation        0"
      ]
     },
     "execution_count": 2,
     "metadata": {},
     "output_type": "execute_result"
    }
   ],
   "source": [
    "# Read in cleaned attack file\n",
    "attack_df = pd.read_csv('../data/attack_clean.csv')\n",
    "attack_df.head()"
   ]
  },
  {
   "cell_type": "code",
   "execution_count": 3,
   "id": "08c3f0d3",
   "metadata": {},
   "outputs": [],
   "source": [
    "# Apply the custom train test split function to balance the classes in the training data only\n",
    "X_train, X_test, y_train, y_test = split_data(\n",
    "    attack_df,\n",
    "    pct_positive=0.5,\n",
    "    random_state=42)"
   ]
  },
  {
   "cell_type": "code",
   "execution_count": 4,
   "id": "6d311d72",
   "metadata": {},
   "outputs": [
    {
     "data": {
      "text/html": [
       "<div>\n",
       "<style scoped>\n",
       "    .dataframe tbody tr th:only-of-type {\n",
       "        vertical-align: middle;\n",
       "    }\n",
       "\n",
       "    .dataframe tbody tr th {\n",
       "        vertical-align: top;\n",
       "    }\n",
       "\n",
       "    .dataframe thead th {\n",
       "        text-align: right;\n",
       "    }\n",
       "</style>\n",
       "<table border=\"1\" class=\"dataframe\">\n",
       "  <thead>\n",
       "    <tr style=\"text-align: right;\">\n",
       "      <th></th>\n",
       "      <th>Train (n=21872)</th>\n",
       "      <th>Test (n=34668)</th>\n",
       "    </tr>\n",
       "  </thead>\n",
       "  <tbody>\n",
       "    <tr>\n",
       "      <th>0</th>\n",
       "      <td>0.5</td>\n",
       "      <td>0.866563</td>\n",
       "    </tr>\n",
       "    <tr>\n",
       "      <th>1</th>\n",
       "      <td>0.5</td>\n",
       "      <td>0.133437</td>\n",
       "    </tr>\n",
       "  </tbody>\n",
       "</table>\n",
       "</div>"
      ],
      "text/plain": [
       "   Train (n=21872)  Test (n=34668)\n",
       "0              0.5        0.866563\n",
       "1              0.5        0.133437"
      ]
     },
     "execution_count": 4,
     "metadata": {},
     "output_type": "execute_result"
    }
   ],
   "source": [
    "# View the split for the train and test data\n",
    "pd.DataFrame({\n",
    "    f'Train (n={y_train.shape[0]})': y_train.value_counts(normalize=True),\n",
    "    f'Test (n={y_test.shape[0]})': y_test.value_counts(normalize=True)})"
   ]
  },
  {
   "cell_type": "code",
   "execution_count": 5,
   "id": "61c0b6f2",
   "metadata": {},
   "outputs": [],
   "source": [
    "# Set up a pipeline with CountVectorizer and XGBClassifier\n",
    "pipe = Pipeline([\n",
    "    ('cvec', CountVectorizer()),\n",
    "    ('xgb', XGBClassifier())\n",
    "])"
   ]
  },
  {
   "cell_type": "code",
   "execution_count": 6,
   "id": "7a981f3a",
   "metadata": {},
   "outputs": [],
   "source": [
    "# Set parameters\n",
    "pipe_params = {\n",
    "    'cvec__max_features': [4_000, 5_000, 6_000],\n",
    "    'cvec__min_df'      : [2, 3],\n",
    "    'cvec__max_df'      : [9, .95],\n",
    "    'cvec__stop_words'  : ['english'],\n",
    "    'cvec__token_pattern' : [r'\\w+|[A-Z]\\w+'],\n",
    "    'cvec__strip_accents' : ['ascii'],\n",
    "    'cvec__ngram_range' : [(1,1), (1,2)],\n",
    "    'xgb__colsample_bytree': [0.5, 0.6, 0.7],\n",
    "    'xgb__n_estimators': [100, 200, 250]\n",
    "}"
   ]
  },
  {
   "cell_type": "code",
   "execution_count": 7,
   "id": "d3c78887",
   "metadata": {},
   "outputs": [],
   "source": [
    "# Instatiate Gridsearch\n",
    "gs = GridSearchCV(estimator = pipe,\n",
    "                     param_grid = pipe_params,\n",
    "                     cv = 5)"
   ]
  },
  {
   "cell_type": "code",
   "execution_count": 1,
   "id": "86cea7d9",
   "metadata": {},
   "outputs": [],
   "source": [
    "gs.fit(X_train, y_train)"
   ]
  },
  {
   "cell_type": "code",
   "execution_count": 9,
   "id": "5793bd86",
   "metadata": {},
   "outputs": [
    {
     "data": {
      "text/plain": [
       "0.8585863165458228"
      ]
     },
     "execution_count": 9,
     "metadata": {},
     "output_type": "execute_result"
    }
   ],
   "source": [
    "gs.best_score_"
   ]
  },
  {
   "cell_type": "code",
   "execution_count": 10,
   "id": "faeaa94b",
   "metadata": {},
   "outputs": [
    {
     "name": "stdout",
     "output_type": "stream",
     "text": [
      "Train score: 0.9060442574981712\n",
      "Test score: 0.9059363101419177\n"
     ]
    }
   ],
   "source": [
    "print(f'Train score: {gs.score(X_train, y_train)}')\n",
    "print(f'Test score: {gs.score(X_test, y_test)}')"
   ]
  },
  {
   "cell_type": "code",
   "execution_count": 11,
   "id": "841ec43b",
   "metadata": {},
   "outputs": [
    {
     "data": {
      "text/plain": [
       "{'cvec__max_df': 0.95,\n",
       " 'cvec__max_features': 6000,\n",
       " 'cvec__min_df': 3,\n",
       " 'cvec__ngram_range': (1, 1),\n",
       " 'cvec__stop_words': 'english',\n",
       " 'cvec__strip_accents': 'ascii',\n",
       " 'cvec__token_pattern': '\\\\w+|[A-Z]\\\\w+',\n",
       " 'xgb__colsample_bytree': 0.6,\n",
       " 'xgb__n_estimators': 250}"
      ]
     },
     "execution_count": 11,
     "metadata": {},
     "output_type": "execute_result"
    }
   ],
   "source": [
    "gs.best_params_"
   ]
  },
  {
   "cell_type": "code",
   "execution_count": 12,
   "id": "89f3fcad",
   "metadata": {},
   "outputs": [],
   "source": [
    "# Set up a pipeline with TfidVectorizer and XGBClassifier\n",
    "pipe_tfid = Pipeline([\n",
    "    ('tvec', TfidfVectorizer()),\n",
    "    ('xgb', XGBClassifier())\n",
    "])"
   ]
  },
  {
   "cell_type": "code",
   "execution_count": 13,
   "id": "cbed7c27",
   "metadata": {},
   "outputs": [],
   "source": [
    "# Set parameters\n",
    "pipe_tfid_params = {\n",
    "    'tvec__max_features': [4_000, 5_000, 6_000],\n",
    "    'tvec__min_df'      : [2, 3],\n",
    "    'tvec__max_df'      : [9, .95],\n",
    "    'tvec__stop_words'  : ['english'],\n",
    "    'tvec__token_pattern' : [r'\\w+|[A-Z]\\w+'],\n",
    "    'tvec__strip_accents' : ['ascii'],\n",
    "    'tvec__ngram_range' : [(1,1), (1,2)],\n",
    "    'xgb__colsample_bytree': [0.5, 0.75],\n",
    "    'xgb__n_estimators': [100, 200, 300]\n",
    "}"
   ]
  },
  {
   "cell_type": "code",
   "execution_count": 14,
   "id": "6f2d123e",
   "metadata": {},
   "outputs": [],
   "source": [
    "# Instatiate Gridsearch\n",
    "gs_tfid = GridSearchCV(estimator = pipe_tfid,\n",
    "                     param_grid = pipe_tfid_params,\n",
    "                     cv = 5)"
   ]
  },
  {
   "cell_type": "code",
   "execution_count": 2,
   "id": "8a31b9fa",
   "metadata": {},
   "outputs": [],
   "source": [
    "gs_tfid.fit(X_train, y_train)"
   ]
  },
  {
   "cell_type": "code",
   "execution_count": 16,
   "id": "4d3135f4",
   "metadata": {},
   "outputs": [
    {
     "data": {
      "text/plain": [
       "0.8578547312038671"
      ]
     },
     "execution_count": 16,
     "metadata": {},
     "output_type": "execute_result"
    }
   ],
   "source": [
    "gs_tfid.best_score_"
   ]
  },
  {
   "cell_type": "code",
   "execution_count": 17,
   "id": "a9f465c7",
   "metadata": {},
   "outputs": [
    {
     "name": "stdout",
     "output_type": "stream",
     "text": [
      "Train score: 0.9289502560351134\n",
      "Test score: 0.9012922579900773\n"
     ]
    }
   ],
   "source": [
    "print(f'Train score: {gs_tfid.score(X_train, y_train)}')\n",
    "print(f'Test score: {gs_tfid.score(X_test, y_test)}')"
   ]
  },
  {
   "cell_type": "code",
   "execution_count": 18,
   "id": "6097c0f5",
   "metadata": {},
   "outputs": [
    {
     "data": {
      "text/plain": [
       "{'tvec__max_df': 0.95,\n",
       " 'tvec__max_features': 5000,\n",
       " 'tvec__min_df': 3,\n",
       " 'tvec__ngram_range': (1, 1),\n",
       " 'tvec__stop_words': 'english',\n",
       " 'tvec__strip_accents': 'ascii',\n",
       " 'tvec__token_pattern': '\\\\w+|[A-Z]\\\\w+',\n",
       " 'xgb__colsample_bytree': 0.75,\n",
       " 'xgb__n_estimators': 300}"
      ]
     },
     "execution_count": 18,
     "metadata": {},
     "output_type": "execute_result"
    }
   ],
   "source": [
    "gs_tfid.best_params_"
   ]
  }
 ],
 "metadata": {
  "kernelspec": {
   "display_name": "Python 3",
   "language": "python",
   "name": "python3"
  },
  "language_info": {
   "codemirror_mode": {
    "name": "ipython",
    "version": 3
   },
   "file_extension": ".py",
   "mimetype": "text/x-python",
   "name": "python",
   "nbconvert_exporter": "python",
   "pygments_lexer": "ipython3",
   "version": "3.8.8"
  }
 },
 "nbformat": 4,
 "nbformat_minor": 5
}
