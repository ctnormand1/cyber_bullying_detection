{
 "cells": [
  {
   "cell_type": "markdown",
   "id": "65651523-3137-491c-884e-9d980abe9797",
   "metadata": {},
   "source": [
    "# XGB Tuning: Aggression"
   ]
  },
  {
   "cell_type": "code",
   "execution_count": 1,
   "id": "fda62552-2ab3-450a-bd5e-4744e0d71860",
   "metadata": {},
   "outputs": [],
   "source": [
    "import pandas as pd\n",
    "import numpy as np\n",
    "from xgboost import XGBClassifier\n",
    "import xgboost as xgb\n",
    "import matplotlib.pyplot as plt\n",
    "from sklearn.model_selection import GridSearchCV\n",
    "from sklearn.pipeline import Pipeline\n",
    "from sklearn.feature_extraction.text import CountVectorizer\n",
    "\n",
    "from eda_functions import split_data"
   ]
  },
  {
   "cell_type": "code",
   "execution_count": 2,
   "id": "df8be84a-bd55-4f6c-89b8-32ab9266de96",
   "metadata": {},
   "outputs": [
    {
     "name": "stdout",
     "output_type": "stream",
     "text": [
      "<class 'pandas.core.frame.DataFrame'>\n",
      "Int64Index: 115493 entries, 37675 to 699897151\n",
      "Data columns (total 9 columns):\n",
      " #   Column            Non-Null Count   Dtype  \n",
      "---  ------            --------------   -----  \n",
      " 0   comment           115493 non-null  object \n",
      " 1   year              115493 non-null  int64  \n",
      " 2   logged_in         115493 non-null  bool   \n",
      " 3   ns                115493 non-null  object \n",
      " 4   sample            115493 non-null  object \n",
      " 5   split             115493 non-null  object \n",
      " 6   aggression        115493 non-null  float64\n",
      " 7   aggression_score  115493 non-null  float64\n",
      " 8   target            115493 non-null  int64  \n",
      "dtypes: bool(1), float64(2), int64(2), object(4)\n",
      "memory usage: 8.0+ MB\n"
     ]
    },
    {
     "data": {
      "text/html": [
       "<div>\n",
       "<style scoped>\n",
       "    .dataframe tbody tr th:only-of-type {\n",
       "        vertical-align: middle;\n",
       "    }\n",
       "\n",
       "    .dataframe tbody tr th {\n",
       "        vertical-align: top;\n",
       "    }\n",
       "\n",
       "    .dataframe thead th {\n",
       "        text-align: right;\n",
       "    }\n",
       "</style>\n",
       "<table border=\"1\" class=\"dataframe\">\n",
       "  <thead>\n",
       "    <tr style=\"text-align: right;\">\n",
       "      <th></th>\n",
       "      <th>comment</th>\n",
       "      <th>year</th>\n",
       "      <th>logged_in</th>\n",
       "      <th>ns</th>\n",
       "      <th>sample</th>\n",
       "      <th>split</th>\n",
       "      <th>aggression</th>\n",
       "      <th>aggression_score</th>\n",
       "      <th>target</th>\n",
       "    </tr>\n",
       "    <tr>\n",
       "      <th>rev_id</th>\n",
       "      <th></th>\n",
       "      <th></th>\n",
       "      <th></th>\n",
       "      <th></th>\n",
       "      <th></th>\n",
       "      <th></th>\n",
       "      <th></th>\n",
       "      <th></th>\n",
       "      <th></th>\n",
       "    </tr>\n",
       "  </thead>\n",
       "  <tbody>\n",
       "    <tr>\n",
       "      <th>37675</th>\n",
       "      <td>This is not creative  Those are the dictionary...</td>\n",
       "      <td>2002</td>\n",
       "      <td>True</td>\n",
       "      <td>article</td>\n",
       "      <td>random</td>\n",
       "      <td>train</td>\n",
       "      <td>0.100000</td>\n",
       "      <td>0.000000</td>\n",
       "      <td>0</td>\n",
       "    </tr>\n",
       "    <tr>\n",
       "      <th>44816</th>\n",
       "      <td>the term standard model is itself less NPOV t...</td>\n",
       "      <td>2002</td>\n",
       "      <td>True</td>\n",
       "      <td>article</td>\n",
       "      <td>random</td>\n",
       "      <td>train</td>\n",
       "      <td>0.000000</td>\n",
       "      <td>0.111111</td>\n",
       "      <td>0</td>\n",
       "    </tr>\n",
       "    <tr>\n",
       "      <th>49851</th>\n",
       "      <td>True or false the situation as of March 2002 w...</td>\n",
       "      <td>2002</td>\n",
       "      <td>True</td>\n",
       "      <td>article</td>\n",
       "      <td>random</td>\n",
       "      <td>train</td>\n",
       "      <td>0.000000</td>\n",
       "      <td>0.100000</td>\n",
       "      <td>0</td>\n",
       "    </tr>\n",
       "    <tr>\n",
       "      <th>89320</th>\n",
       "      <td>Next maybe you could work on being less conde...</td>\n",
       "      <td>2002</td>\n",
       "      <td>True</td>\n",
       "      <td>article</td>\n",
       "      <td>random</td>\n",
       "      <td>dev</td>\n",
       "      <td>0.444444</td>\n",
       "      <td>-0.444444</td>\n",
       "      <td>0</td>\n",
       "    </tr>\n",
       "    <tr>\n",
       "      <th>93890</th>\n",
       "      <td>This page will need disambiguation</td>\n",
       "      <td>2002</td>\n",
       "      <td>True</td>\n",
       "      <td>article</td>\n",
       "      <td>random</td>\n",
       "      <td>train</td>\n",
       "      <td>0.000000</td>\n",
       "      <td>0.333333</td>\n",
       "      <td>0</td>\n",
       "    </tr>\n",
       "  </tbody>\n",
       "</table>\n",
       "</div>"
      ],
      "text/plain": [
       "                                                  comment  year  logged_in  \\\n",
       "rev_id                                                                       \n",
       "37675   This is not creative  Those are the dictionary...  2002       True   \n",
       "44816    the term standard model is itself less NPOV t...  2002       True   \n",
       "49851   True or false the situation as of March 2002 w...  2002       True   \n",
       "89320    Next maybe you could work on being less conde...  2002       True   \n",
       "93890                 This page will need disambiguation   2002       True   \n",
       "\n",
       "             ns  sample  split  aggression  aggression_score  target  \n",
       "rev_id                                                                \n",
       "37675   article  random  train    0.100000          0.000000       0  \n",
       "44816   article  random  train    0.000000          0.111111       0  \n",
       "49851   article  random  train    0.000000          0.100000       0  \n",
       "89320   article  random    dev    0.444444         -0.444444       0  \n",
       "93890   article  random  train    0.000000          0.333333       0  "
      ]
     },
     "execution_count": 2,
     "metadata": {},
     "output_type": "execute_result"
    }
   ],
   "source": [
    "df = pd.read_csv('../data/aggression_clean_data.csv', index_col='rev_id').rename({'label': 'target'}, axis=1)\n",
    "df.info()\n",
    "df.head()"
   ]
  },
  {
   "cell_type": "code",
   "execution_count": 3,
   "id": "e6161557-5db7-4008-8606-59cfc16dc6e2",
   "metadata": {},
   "outputs": [
    {
     "data": {
      "text/html": [
       "<div>\n",
       "<style scoped>\n",
       "    .dataframe tbody tr th:only-of-type {\n",
       "        vertical-align: middle;\n",
       "    }\n",
       "\n",
       "    .dataframe tbody tr th {\n",
       "        vertical-align: top;\n",
       "    }\n",
       "\n",
       "    .dataframe thead th {\n",
       "        text-align: right;\n",
       "    }\n",
       "</style>\n",
       "<table border=\"1\" class=\"dataframe\">\n",
       "  <thead>\n",
       "    <tr style=\"text-align: right;\">\n",
       "      <th></th>\n",
       "      <th>Train (n=20000)</th>\n",
       "      <th>Test (n=5000)</th>\n",
       "    </tr>\n",
       "  </thead>\n",
       "  <tbody>\n",
       "    <tr>\n",
       "      <th>0</th>\n",
       "      <td>0.5</td>\n",
       "      <td>0.855</td>\n",
       "    </tr>\n",
       "    <tr>\n",
       "      <th>1</th>\n",
       "      <td>0.5</td>\n",
       "      <td>0.145</td>\n",
       "    </tr>\n",
       "  </tbody>\n",
       "</table>\n",
       "</div>"
      ],
      "text/plain": [
       "   Train (n=20000)  Test (n=5000)\n",
       "0              0.5          0.855\n",
       "1              0.5          0.145"
      ]
     },
     "execution_count": 3,
     "metadata": {},
     "output_type": "execute_result"
    }
   ],
   "source": [
    "# Split data\n",
    "X_train, X_test, y_train, y_test = split_data(df, pct_positive=0.5, test_size=5_000, train_size=20_000)\n",
    "\n",
    "# Check number of observations and class proportions \n",
    "pd.DataFrame({\n",
    "    f'Train (n={y_train.shape[0]})': y_train.value_counts(normalize=True),\n",
    "    f'Test (n={y_test.shape[0]})': y_test.value_counts(normalize=True)})"
   ]
  },
  {
   "cell_type": "markdown",
   "id": "76bb0806-126e-478b-a785-d6fbc272f2bf",
   "metadata": {},
   "source": [
    "**`Baseline Accuracy: 85.5%`**"
   ]
  },
  {
   "cell_type": "code",
   "execution_count": null,
   "id": "48ab293f-7bd3-47d4-84fe-186755540127",
   "metadata": {
    "tags": []
   },
   "outputs": [],
   "source": [
    "%%time\n",
    "pipe = Pipeline([\n",
    "    ('cvec', CountVectorizer(strip_accents='ascii', ngram_range=(1, 2), max_features=10_000)),\n",
    "    ('xgb', XGBClassifier(eval_metric='error', use_label_encoder=False))\n",
    "])\n",
    "\n",
    "regex_list = [\n",
    "    r'\\w+|[A-Z]\\w+',     # captures lowercase words, and words with any uppercase characters\n",
    "    r'\\w+|[A-Z]\\w+|\\S+'  # captures words along with consecutive puncuation such as !!, ???, etc.\n",
    "]\n",
    "\n",
    "params = {\n",
    "    'cvec__token_pattern': regex_list,\n",
    "    'cvec__max_df': [1.0, 0.95, 0.90, 0.80],\n",
    "    'xgb__n_estimators': [100, 150],\n",
    "    'xgb__max_depth': [4, 5, 6]\n",
    "}\n",
    "\n",
    "gs = GridSearchCV(pipe, params, cv=3)\n",
    "gs.fit(X_train, y_train)"
   ]
  },
  {
   "cell_type": "code",
   "execution_count": null,
   "id": "e13bbcc4-1efb-47b8-9d79-71d4dcb2bafe",
   "metadata": {},
   "outputs": [],
   "source": [
    "gs.best_params_"
   ]
  },
  {
   "cell_type": "code",
   "execution_count": null,
   "id": "863a07b6-6f6a-49f6-9b6b-bfa1f2ed6b5f",
   "metadata": {},
   "outputs": [],
   "source": [
    "print('Best GridSearchCV score: ', round(gs.best_score_, 4))\n",
    "print('Train score: ', round(gs.score(X_train, y_train), 4))\n",
    "print('Test score: ', round(gs.score(X_test, y_test), 4))"
   ]
  }
 ],
 "metadata": {
  "kernelspec": {
   "display_name": "Python 3",
   "language": "python",
   "name": "python3"
  },
  "language_info": {
   "codemirror_mode": {
    "name": "ipython",
    "version": 3
   },
   "file_extension": ".py",
   "mimetype": "text/x-python",
   "name": "python",
   "nbconvert_exporter": "python",
   "pygments_lexer": "ipython3",
   "version": "3.8.8"
  }
 },
 "nbformat": 4,
 "nbformat_minor": 5
}
